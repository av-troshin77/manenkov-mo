{
 "cells": [
  {
   "cell_type": "markdown",
   "id": "33dfe6ab-8cca-4fdb-ba7a-9f1fe1e07be1",
   "metadata": {},
   "source": [
    "# Isolation Forest for Traffic Anomaly Detection"
   ]
  },
  {
   "cell_type": "code",
   "execution_count": 1,
   "id": "a15a4e8d-525d-4665-854d-3ab9e0a8c779",
   "metadata": {},
   "outputs": [],
   "source": [
    "import pandas as pd\n",
    "import numpy as np\n",
    "from sklearn import preprocessing as pp\n",
    "from sklearn.ensemble import IsolationForest\n",
    "from sklearn.model_selection import train_test_split\n",
    "from sklearn.metrics import roc_curve\n",
    "from sklearn.metrics import average_precision_score\n",
    "from sklearn.metrics import precision_recall_curve\n",
    "from sklearn.metrics import auc\n",
    "import matplotlib.pyplot as plt"
   ]
  },
  {
   "cell_type": "markdown",
   "id": "2827a31b-cfe4-4042-baa3-5a4e860f2644",
   "metadata": {},
   "source": [
    "## Load Data"
   ]
  },
  {
   "cell_type": "code",
   "execution_count": 2,
   "id": "bca9bae1-eea8-4232-9289-191f151fc700",
   "metadata": {},
   "outputs": [],
   "source": [
    "attack = 'Video_Injection'\n",
    "data = pd.read_csv('../Datasets/kitsune_dataset/Video_Injection/Video_Injection_dataset.csv', index_col=0, dtype=np.float32)\n",
    "labels = pd.read_csv('../Datasets/kitsune_dataset/Video_Injection/Video_Injection_labels.csv', index_col=0, dtype=np.int32)"
   ]
  },
  {
   "cell_type": "code",
   "execution_count": 3,
   "id": "632376a7-d050-41e7-befe-d9224e82e094",
   "metadata": {},
   "outputs": [
    {
     "name": "stdout",
     "output_type": "stream",
     "text": [
      "<class 'pandas.core.frame.DataFrame'>\n",
      "Float64Index: 2771275 entries, 1.9998677968978882 to 5.661799907684326\n",
      "Columns: 114 entries, 1.450000000000000000e+03 to 0.000000000000000000e+00.54\n",
      "dtypes: float32(114)\n",
      "memory usage: 1.2 GB\n"
     ]
    }
   ],
   "source": [
    "data.info()"
   ]
  },
  {
   "cell_type": "code",
   "execution_count": 4,
   "id": "6e74df59-44b0-4cfe-a30c-2fbdff4f11c7",
   "metadata": {},
   "outputs": [
    {
     "name": "stdout",
     "output_type": "stream",
     "text": [
      "<class 'pandas.core.frame.DataFrame'>\n",
      "Int64Index: 2771276 entries, 1 to 2771276\n",
      "Data columns (total 1 columns):\n",
      " #   Column  Dtype\n",
      "---  ------  -----\n",
      " 0   x       int32\n",
      "dtypes: int32(1)\n",
      "memory usage: 31.7 MB\n"
     ]
    }
   ],
   "source": [
    "labels.info()"
   ]
  },
  {
   "cell_type": "markdown",
   "id": "3cb9daad-0dba-461c-bb1e-3d7fa1520bca",
   "metadata": {},
   "source": [
    "## Scale Data"
   ]
  },
  {
   "cell_type": "code",
   "execution_count": 5,
   "id": "a486fc47-aa0e-4954-865a-e0935f0d4320",
   "metadata": {},
   "outputs": [
    {
     "data": {
      "text/html": [
       "<div>\n",
       "<style scoped>\n",
       "    .dataframe tbody tr th:only-of-type {\n",
       "        vertical-align: middle;\n",
       "    }\n",
       "\n",
       "    .dataframe tbody tr th {\n",
       "        vertical-align: top;\n",
       "    }\n",
       "\n",
       "    .dataframe thead th {\n",
       "        text-align: right;\n",
       "    }\n",
       "</style>\n",
       "<table border=\"1\" class=\"dataframe\">\n",
       "  <thead>\n",
       "    <tr style=\"text-align: right;\">\n",
       "      <th></th>\n",
       "      <th>0</th>\n",
       "      <th>1</th>\n",
       "      <th>2</th>\n",
       "      <th>3</th>\n",
       "      <th>4</th>\n",
       "      <th>5</th>\n",
       "      <th>6</th>\n",
       "      <th>7</th>\n",
       "      <th>8</th>\n",
       "      <th>9</th>\n",
       "      <th>...</th>\n",
       "      <th>104</th>\n",
       "      <th>105</th>\n",
       "      <th>106</th>\n",
       "      <th>107</th>\n",
       "      <th>108</th>\n",
       "      <th>109</th>\n",
       "      <th>110</th>\n",
       "      <th>111</th>\n",
       "      <th>112</th>\n",
       "      <th>113</th>\n",
       "    </tr>\n",
       "  </thead>\n",
       "  <tbody>\n",
       "    <tr>\n",
       "      <th>count</th>\n",
       "      <td>2.771275e+06</td>\n",
       "      <td>2.771275e+06</td>\n",
       "      <td>2.771275e+06</td>\n",
       "      <td>2.771275e+06</td>\n",
       "      <td>2.771275e+06</td>\n",
       "      <td>2.771275e+06</td>\n",
       "      <td>2.771275e+06</td>\n",
       "      <td>2.771275e+06</td>\n",
       "      <td>2.771275e+06</td>\n",
       "      <td>2.771275e+06</td>\n",
       "      <td>...</td>\n",
       "      <td>2.771275e+06</td>\n",
       "      <td>2.771275e+06</td>\n",
       "      <td>2.771275e+06</td>\n",
       "      <td>2.771275e+06</td>\n",
       "      <td>2.771275e+06</td>\n",
       "      <td>2.771275e+06</td>\n",
       "      <td>2.771275e+06</td>\n",
       "      <td>2.771275e+06</td>\n",
       "      <td>2.771275e+06</td>\n",
       "      <td>2.771275e+06</td>\n",
       "    </tr>\n",
       "    <tr>\n",
       "      <th>mean</th>\n",
       "      <td>5.333998e-01</td>\n",
       "      <td>6.549777e-01</td>\n",
       "      <td>3.184499e-01</td>\n",
       "      <td>5.339230e-01</td>\n",
       "      <td>6.519308e-01</td>\n",
       "      <td>4.029418e-01</td>\n",
       "      <td>5.346262e-01</td>\n",
       "      <td>6.467289e-01</td>\n",
       "      <td>5.134716e-01</td>\n",
       "      <td>5.352410e-01</td>\n",
       "      <td>...</td>\n",
       "      <td>2.318252e-01</td>\n",
       "      <td>2.538326e-06</td>\n",
       "      <td>2.832207e-05</td>\n",
       "      <td>6.300705e-01</td>\n",
       "      <td>5.350782e-01</td>\n",
       "      <td>3.559039e-01</td>\n",
       "      <td>6.199886e-01</td>\n",
       "      <td>2.342282e-01</td>\n",
       "      <td>2.771659e-06</td>\n",
       "      <td>1.010484e-04</td>\n",
       "    </tr>\n",
       "    <tr>\n",
       "      <th>std</th>\n",
       "      <td>2.585850e-01</td>\n",
       "      <td>3.871250e-01</td>\n",
       "      <td>1.172267e-01</td>\n",
       "      <td>2.579564e-01</td>\n",
       "      <td>3.837286e-01</td>\n",
       "      <td>1.345348e-01</td>\n",
       "      <td>2.573609e-01</td>\n",
       "      <td>3.792927e-01</td>\n",
       "      <td>1.665150e-01</td>\n",
       "      <td>2.569596e-01</td>\n",
       "      <td>...</td>\n",
       "      <td>1.753682e-01</td>\n",
       "      <td>1.361130e-03</td>\n",
       "      <td>1.679577e-03</td>\n",
       "      <td>2.397212e-01</td>\n",
       "      <td>4.535642e-01</td>\n",
       "      <td>2.903244e-01</td>\n",
       "      <td>4.355395e-01</td>\n",
       "      <td>1.741882e-01</td>\n",
       "      <td>1.486992e-03</td>\n",
       "      <td>1.812160e-03</td>\n",
       "    </tr>\n",
       "    <tr>\n",
       "      <th>min</th>\n",
       "      <td>0.000000e+00</td>\n",
       "      <td>0.000000e+00</td>\n",
       "      <td>0.000000e+00</td>\n",
       "      <td>0.000000e+00</td>\n",
       "      <td>0.000000e+00</td>\n",
       "      <td>0.000000e+00</td>\n",
       "      <td>0.000000e+00</td>\n",
       "      <td>0.000000e+00</td>\n",
       "      <td>0.000000e+00</td>\n",
       "      <td>0.000000e+00</td>\n",
       "      <td>...</td>\n",
       "      <td>0.000000e+00</td>\n",
       "      <td>0.000000e+00</td>\n",
       "      <td>0.000000e+00</td>\n",
       "      <td>0.000000e+00</td>\n",
       "      <td>0.000000e+00</td>\n",
       "      <td>0.000000e+00</td>\n",
       "      <td>0.000000e+00</td>\n",
       "      <td>0.000000e+00</td>\n",
       "      <td>0.000000e+00</td>\n",
       "      <td>0.000000e+00</td>\n",
       "    </tr>\n",
       "    <tr>\n",
       "      <th>25%</th>\n",
       "      <td>4.634860e-01</td>\n",
       "      <td>1.212070e-01</td>\n",
       "      <td>2.513162e-01</td>\n",
       "      <td>4.640636e-01</td>\n",
       "      <td>1.188485e-01</td>\n",
       "      <td>3.341692e-01</td>\n",
       "      <td>4.651620e-01</td>\n",
       "      <td>1.156369e-01</td>\n",
       "      <td>4.013989e-01</td>\n",
       "      <td>4.660611e-01</td>\n",
       "      <td>...</td>\n",
       "      <td>5.291286e-14</td>\n",
       "      <td>1.064969e-11</td>\n",
       "      <td>2.455852e-05</td>\n",
       "      <td>4.268931e-01</td>\n",
       "      <td>9.055225e-02</td>\n",
       "      <td>2.690914e-07</td>\n",
       "      <td>9.393731e-02</td>\n",
       "      <td>1.364653e-13</td>\n",
       "      <td>2.246186e-10</td>\n",
       "      <td>9.723163e-05</td>\n",
       "    </tr>\n",
       "    <tr>\n",
       "      <th>50%</th>\n",
       "      <td>4.839740e-01</td>\n",
       "      <td>8.933768e-01</td>\n",
       "      <td>3.065072e-01</td>\n",
       "      <td>4.848238e-01</td>\n",
       "      <td>8.869466e-01</td>\n",
       "      <td>3.829262e-01</td>\n",
       "      <td>4.861712e-01</td>\n",
       "      <td>8.772388e-01</td>\n",
       "      <td>4.845766e-01</td>\n",
       "      <td>4.869758e-01</td>\n",
       "      <td>...</td>\n",
       "      <td>2.614308e-01</td>\n",
       "      <td>1.064969e-11</td>\n",
       "      <td>2.455852e-05</td>\n",
       "      <td>5.981457e-01</td>\n",
       "      <td>9.592031e-01</td>\n",
       "      <td>5.086589e-01</td>\n",
       "      <td>9.625076e-01</td>\n",
       "      <td>2.706850e-01</td>\n",
       "      <td>2.246186e-10</td>\n",
       "      <td>9.723163e-05</td>\n",
       "    </tr>\n",
       "    <tr>\n",
       "      <th>75%</th>\n",
       "      <td>4.964075e-01</td>\n",
       "      <td>9.241375e-01</td>\n",
       "      <td>3.751534e-01</td>\n",
       "      <td>4.948697e-01</td>\n",
       "      <td>9.178984e-01</td>\n",
       "      <td>5.082794e-01</td>\n",
       "      <td>4.933038e-01</td>\n",
       "      <td>9.091935e-01</td>\n",
       "      <td>6.750593e-01</td>\n",
       "      <td>4.923694e-01</td>\n",
       "      <td>...</td>\n",
       "      <td>3.437146e-01</td>\n",
       "      <td>1.064969e-11</td>\n",
       "      <td>2.455852e-05</td>\n",
       "      <td>8.048688e-01</td>\n",
       "      <td>9.985632e-01</td>\n",
       "      <td>5.824887e-01</td>\n",
       "      <td>9.985632e-01</td>\n",
       "      <td>3.392931e-01</td>\n",
       "      <td>2.246186e-10</td>\n",
       "      <td>9.723163e-05</td>\n",
       "    </tr>\n",
       "    <tr>\n",
       "      <th>max</th>\n",
       "      <td>1.000000e+00</td>\n",
       "      <td>9.999999e-01</td>\n",
       "      <td>9.999999e-01</td>\n",
       "      <td>1.000000e+00</td>\n",
       "      <td>1.000000e+00</td>\n",
       "      <td>1.000000e+00</td>\n",
       "      <td>1.000000e+00</td>\n",
       "      <td>1.000000e+00</td>\n",
       "      <td>9.999999e-01</td>\n",
       "      <td>1.000000e+00</td>\n",
       "      <td>...</td>\n",
       "      <td>1.000000e+00</td>\n",
       "      <td>1.000000e+00</td>\n",
       "      <td>1.000000e+00</td>\n",
       "      <td>1.000000e+00</td>\n",
       "      <td>1.000000e+00</td>\n",
       "      <td>1.000000e+00</td>\n",
       "      <td>1.000000e+00</td>\n",
       "      <td>1.000000e+00</td>\n",
       "      <td>1.000000e+00</td>\n",
       "      <td>9.999999e-01</td>\n",
       "    </tr>\n",
       "  </tbody>\n",
       "</table>\n",
       "<p>8 rows × 114 columns</p>\n",
       "</div>"
      ],
      "text/plain": [
       "                0             1             2             3             4    \\\n",
       "count  2.771275e+06  2.771275e+06  2.771275e+06  2.771275e+06  2.771275e+06   \n",
       "mean   5.333998e-01  6.549777e-01  3.184499e-01  5.339230e-01  6.519308e-01   \n",
       "std    2.585850e-01  3.871250e-01  1.172267e-01  2.579564e-01  3.837286e-01   \n",
       "min    0.000000e+00  0.000000e+00  0.000000e+00  0.000000e+00  0.000000e+00   \n",
       "25%    4.634860e-01  1.212070e-01  2.513162e-01  4.640636e-01  1.188485e-01   \n",
       "50%    4.839740e-01  8.933768e-01  3.065072e-01  4.848238e-01  8.869466e-01   \n",
       "75%    4.964075e-01  9.241375e-01  3.751534e-01  4.948697e-01  9.178984e-01   \n",
       "max    1.000000e+00  9.999999e-01  9.999999e-01  1.000000e+00  1.000000e+00   \n",
       "\n",
       "                5             6             7             8             9    \\\n",
       "count  2.771275e+06  2.771275e+06  2.771275e+06  2.771275e+06  2.771275e+06   \n",
       "mean   4.029418e-01  5.346262e-01  6.467289e-01  5.134716e-01  5.352410e-01   \n",
       "std    1.345348e-01  2.573609e-01  3.792927e-01  1.665150e-01  2.569596e-01   \n",
       "min    0.000000e+00  0.000000e+00  0.000000e+00  0.000000e+00  0.000000e+00   \n",
       "25%    3.341692e-01  4.651620e-01  1.156369e-01  4.013989e-01  4.660611e-01   \n",
       "50%    3.829262e-01  4.861712e-01  8.772388e-01  4.845766e-01  4.869758e-01   \n",
       "75%    5.082794e-01  4.933038e-01  9.091935e-01  6.750593e-01  4.923694e-01   \n",
       "max    1.000000e+00  1.000000e+00  1.000000e+00  9.999999e-01  1.000000e+00   \n",
       "\n",
       "       ...           104           105           106           107  \\\n",
       "count  ...  2.771275e+06  2.771275e+06  2.771275e+06  2.771275e+06   \n",
       "mean   ...  2.318252e-01  2.538326e-06  2.832207e-05  6.300705e-01   \n",
       "std    ...  1.753682e-01  1.361130e-03  1.679577e-03  2.397212e-01   \n",
       "min    ...  0.000000e+00  0.000000e+00  0.000000e+00  0.000000e+00   \n",
       "25%    ...  5.291286e-14  1.064969e-11  2.455852e-05  4.268931e-01   \n",
       "50%    ...  2.614308e-01  1.064969e-11  2.455852e-05  5.981457e-01   \n",
       "75%    ...  3.437146e-01  1.064969e-11  2.455852e-05  8.048688e-01   \n",
       "max    ...  1.000000e+00  1.000000e+00  1.000000e+00  1.000000e+00   \n",
       "\n",
       "                108           109           110           111           112  \\\n",
       "count  2.771275e+06  2.771275e+06  2.771275e+06  2.771275e+06  2.771275e+06   \n",
       "mean   5.350782e-01  3.559039e-01  6.199886e-01  2.342282e-01  2.771659e-06   \n",
       "std    4.535642e-01  2.903244e-01  4.355395e-01  1.741882e-01  1.486992e-03   \n",
       "min    0.000000e+00  0.000000e+00  0.000000e+00  0.000000e+00  0.000000e+00   \n",
       "25%    9.055225e-02  2.690914e-07  9.393731e-02  1.364653e-13  2.246186e-10   \n",
       "50%    9.592031e-01  5.086589e-01  9.625076e-01  2.706850e-01  2.246186e-10   \n",
       "75%    9.985632e-01  5.824887e-01  9.985632e-01  3.392931e-01  2.246186e-10   \n",
       "max    1.000000e+00  1.000000e+00  1.000000e+00  1.000000e+00  1.000000e+00   \n",
       "\n",
       "                113  \n",
       "count  2.771275e+06  \n",
       "mean   1.010484e-04  \n",
       "std    1.812160e-03  \n",
       "min    0.000000e+00  \n",
       "25%    9.723163e-05  \n",
       "50%    9.723163e-05  \n",
       "75%    9.723163e-05  \n",
       "max    9.999999e-01  \n",
       "\n",
       "[8 rows x 114 columns]"
      ]
     },
     "execution_count": 5,
     "metadata": {},
     "output_type": "execute_result"
    }
   ],
   "source": [
    "scaler = pp.MinMaxScaler()\n",
    "data = scaler.fit_transform(data)\n",
    "data = pd.DataFrame(data)\n",
    "data.describe()"
   ]
  },
  {
   "cell_type": "markdown",
   "id": "5654d1d8-7ca5-4f31-93d2-005acabef525",
   "metadata": {},
   "source": [
    "## Train-Test Split"
   ]
  },
  {
   "cell_type": "code",
   "execution_count": 6,
   "id": "45a90aa3-29f2-4579-962b-5c93d81b89cd",
   "metadata": {},
   "outputs": [],
   "source": [
    "# drop the last row\n",
    "labels=labels[:-1]\n",
    "labels.tail(5)\n",
    "# train-test split\n",
    "X_train, X_test, y_train, y_test = train_test_split(data, labels, shuffle=False, test_size=0.3)"
   ]
  },
  {
   "cell_type": "code",
   "execution_count": 7,
   "id": "9f687ec7-3c07-462f-964a-4a108aab07f8",
   "metadata": {},
   "outputs": [
    {
     "name": "stdout",
     "output_type": "stream",
     "text": [
      "Number anomalies in train data: x    0\n",
      "dtype: int64\n",
      "Number anomalies in test data: x    7037\n",
      "dtype: int64\n"
     ]
    }
   ],
   "source": [
    "# anomaly counts\n",
    "print(f'Number anomalies in train data: {y_train.sum()}')\n",
    "print(f'Number anomalies in test data: {y_test.sum()}')"
   ]
  },
  {
   "cell_type": "markdown",
   "id": "72047bb0-db41-4862-b02a-0efed1b46ba1",
   "metadata": {},
   "source": [
    "## Create Model"
   ]
  },
  {
   "cell_type": "code",
   "execution_count": 8,
   "id": "e7ab98af-9839-4b85-9278-bde6e8a8f02d",
   "metadata": {},
   "outputs": [
    {
     "data": {
      "text/html": [
       "<style>#sk-container-id-1 {color: black;background-color: white;}#sk-container-id-1 pre{padding: 0;}#sk-container-id-1 div.sk-toggleable {background-color: white;}#sk-container-id-1 label.sk-toggleable__label {cursor: pointer;display: block;width: 100%;margin-bottom: 0;padding: 0.3em;box-sizing: border-box;text-align: center;}#sk-container-id-1 label.sk-toggleable__label-arrow:before {content: \"▸\";float: left;margin-right: 0.25em;color: #696969;}#sk-container-id-1 label.sk-toggleable__label-arrow:hover:before {color: black;}#sk-container-id-1 div.sk-estimator:hover label.sk-toggleable__label-arrow:before {color: black;}#sk-container-id-1 div.sk-toggleable__content {max-height: 0;max-width: 0;overflow: hidden;text-align: left;background-color: #f0f8ff;}#sk-container-id-1 div.sk-toggleable__content pre {margin: 0.2em;color: black;border-radius: 0.25em;background-color: #f0f8ff;}#sk-container-id-1 input.sk-toggleable__control:checked~div.sk-toggleable__content {max-height: 200px;max-width: 100%;overflow: auto;}#sk-container-id-1 input.sk-toggleable__control:checked~label.sk-toggleable__label-arrow:before {content: \"▾\";}#sk-container-id-1 div.sk-estimator input.sk-toggleable__control:checked~label.sk-toggleable__label {background-color: #d4ebff;}#sk-container-id-1 div.sk-label input.sk-toggleable__control:checked~label.sk-toggleable__label {background-color: #d4ebff;}#sk-container-id-1 input.sk-hidden--visually {border: 0;clip: rect(1px 1px 1px 1px);clip: rect(1px, 1px, 1px, 1px);height: 1px;margin: -1px;overflow: hidden;padding: 0;position: absolute;width: 1px;}#sk-container-id-1 div.sk-estimator {font-family: monospace;background-color: #f0f8ff;border: 1px dotted black;border-radius: 0.25em;box-sizing: border-box;margin-bottom: 0.5em;}#sk-container-id-1 div.sk-estimator:hover {background-color: #d4ebff;}#sk-container-id-1 div.sk-parallel-item::after {content: \"\";width: 100%;border-bottom: 1px solid gray;flex-grow: 1;}#sk-container-id-1 div.sk-label:hover label.sk-toggleable__label {background-color: #d4ebff;}#sk-container-id-1 div.sk-serial::before {content: \"\";position: absolute;border-left: 1px solid gray;box-sizing: border-box;top: 0;bottom: 0;left: 50%;z-index: 0;}#sk-container-id-1 div.sk-serial {display: flex;flex-direction: column;align-items: center;background-color: white;padding-right: 0.2em;padding-left: 0.2em;position: relative;}#sk-container-id-1 div.sk-item {position: relative;z-index: 1;}#sk-container-id-1 div.sk-parallel {display: flex;align-items: stretch;justify-content: center;background-color: white;position: relative;}#sk-container-id-1 div.sk-item::before, #sk-container-id-1 div.sk-parallel-item::before {content: \"\";position: absolute;border-left: 1px solid gray;box-sizing: border-box;top: 0;bottom: 0;left: 50%;z-index: -1;}#sk-container-id-1 div.sk-parallel-item {display: flex;flex-direction: column;z-index: 1;position: relative;background-color: white;}#sk-container-id-1 div.sk-parallel-item:first-child::after {align-self: flex-end;width: 50%;}#sk-container-id-1 div.sk-parallel-item:last-child::after {align-self: flex-start;width: 50%;}#sk-container-id-1 div.sk-parallel-item:only-child::after {width: 0;}#sk-container-id-1 div.sk-dashed-wrapped {border: 1px dashed gray;margin: 0 0.4em 0.5em 0.4em;box-sizing: border-box;padding-bottom: 0.4em;background-color: white;}#sk-container-id-1 div.sk-label label {font-family: monospace;font-weight: bold;display: inline-block;line-height: 1.2em;}#sk-container-id-1 div.sk-label-container {text-align: center;}#sk-container-id-1 div.sk-container {/* jupyter's `normalize.less` sets `[hidden] { display: none; }` but bootstrap.min.css set `[hidden] { display: none !important; }` so we also need the `!important` here to be able to override the default hidden behavior on the sphinx rendered scikit-learn.org. See: https://github.com/scikit-learn/scikit-learn/issues/21755 */display: inline-block !important;position: relative;}#sk-container-id-1 div.sk-text-repr-fallback {display: none;}</style><div id=\"sk-container-id-1\" class=\"sk-top-container\"><div class=\"sk-text-repr-fallback\"><pre>IsolationForest(max_samples=100, n_jobs=16)</pre><b>In a Jupyter environment, please rerun this cell to show the HTML representation or trust the notebook. <br />On GitHub, the HTML representation is unable to render, please try loading this page with nbviewer.org.</b></div><div class=\"sk-container\" hidden><div class=\"sk-item\"><div class=\"sk-estimator sk-toggleable\"><input class=\"sk-toggleable__control sk-hidden--visually\" id=\"sk-estimator-id-1\" type=\"checkbox\" checked><label for=\"sk-estimator-id-1\" class=\"sk-toggleable__label sk-toggleable__label-arrow\">IsolationForest</label><div class=\"sk-toggleable__content\"><pre>IsolationForest(max_samples=100, n_jobs=16)</pre></div></div></div></div></div>"
      ],
      "text/plain": [
       "IsolationForest(max_samples=100, n_jobs=16)"
      ]
     },
     "execution_count": 8,
     "metadata": {},
     "output_type": "execute_result"
    }
   ],
   "source": [
    "model = IsolationForest(max_samples=100, n_jobs=16)\n",
    "model.fit(X_train)"
   ]
  },
  {
   "cell_type": "markdown",
   "id": "d6d6271e-530e-476a-8f23-2d475fc01f59",
   "metadata": {},
   "source": [
    "## Evaluate"
   ]
  },
  {
   "cell_type": "code",
   "execution_count": 9,
   "id": "e80a5165-df10-49d7-875d-880a707fc635",
   "metadata": {},
   "outputs": [],
   "source": [
    "predictions = model.predict(X_test)"
   ]
  },
  {
   "cell_type": "code",
   "execution_count": 10,
   "id": "4d04ffb9-ccc6-45d1-80de-9d1c97c30edf",
   "metadata": {},
   "outputs": [],
   "source": [
    "# convert to 0-1\n",
    "predictions = [0 if x>0 else 1 for x in predictions] "
   ]
  },
  {
   "cell_type": "code",
   "execution_count": 11,
   "id": "bc3c4c8c-fb5a-4c6c-80e6-64ff8c38fded",
   "metadata": {},
   "outputs": [
    {
     "name": "stdout",
     "output_type": "stream",
     "text": [
      "Average precision score for test: 0.0111\n"
     ]
    }
   ],
   "source": [
    "# average precision score train\n",
    "aps_test = average_precision_score(y_test, predictions)\n",
    "print(f'Average precision score for test: {aps_test:.4f}')"
   ]
  },
  {
   "cell_type": "code",
   "execution_count": 12,
   "id": "bd4d160c-8737-42ac-8dcb-1ebed8e6ee9b",
   "metadata": {},
   "outputs": [
    {
     "data": {
      "image/png": "[encoded data removed]",
      "text/plain": [
       "<Figure size 640x480 with 1 Axes>"
      ]
     },
     "metadata": {},
     "output_type": "display_data"
    }
   ],
   "source": [
    "# precision-recall curve for test results\n",
    "precision, recall, thresholds = precision_recall_curve(y_test, predictions)\n",
    "plt.title(f'Средняя точность: {aps_test*100:.1f}%')\n",
    "plt.xlabel('Чувствительность')\n",
    "plt.xlim([0, 1.1])\n",
    "plt.ylim([0, 1.1])\n",
    "plt.ylabel('Точность')\n",
    "#plt.ylim([0, 1.1])\n",
    "#plt.xlim([0, 1.0])\n",
    "plt.grid()\n",
    "plt.plot(recall, precision, color='k')\n",
    "plt.savefig('IF_' + attack + '_AP.png')\n",
    "plt.show()"
   ]
  },
  {
   "cell_type": "code",
   "execution_count": 13,
   "id": "a2e2a65d-1930-456d-930d-c3af8892a753",
   "metadata": {},
   "outputs": [
    {
     "data": {
      "image/png": "[encoded data removed]",
      "text/plain": [
       "<Figure size 640x480 with 1 Axes>"
      ]
     },
     "metadata": {},
     "output_type": "display_data"
    }
   ],
   "source": [
    "# receiver operational characteristic\n",
    "fpr, tpr, thresholds = roc_curve(y_test, predictions)\n",
    "auROC = auc(fpr, tpr)\n",
    "plt.figure()\n",
    "plt.title(f'Площадь под кривой={auROC:.2f}')\n",
    "plt.plot(fpr, tpr, color='k', lw=2)\n",
    "plt.xlabel('Доля ошибочно классифицированных (FTR)')\n",
    "plt.ylabel('Для правильно классифицированных (TPR)')\n",
    "plt.plot([0,1], [0,1], color='k', lw=2, linestyle='--')\n",
    "plt.grid()\n",
    "plt.savefig('IF_' + attack + '_AUC.png')\n",
    "plt.show()"
   ]
  }
 ],
 "metadata": {
  "kernelspec": {
   "display_name": "Python 3 (ipykernel)",
   "language": "python",
   "name": "python3"
  },
  "language_info": {
   "codemirror_mode": {
    "name": "ipython",
    "version": 3
   },
   "file_extension": ".py",
   "mimetype": "text/x-python",
   "name": "python",
   "nbconvert_exporter": "python",
   "pygments_lexer": "ipython3",
   "version": "3.10.12"
  }
 },
 "nbformat": 4,
 "nbformat_minor": 5
}
