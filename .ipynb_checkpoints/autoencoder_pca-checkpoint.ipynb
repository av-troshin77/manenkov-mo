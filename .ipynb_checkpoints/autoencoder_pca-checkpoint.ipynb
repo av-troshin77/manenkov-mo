{
 "cells": [
  {
   "cell_type": "markdown",
   "id": "33dfe6ab-8cca-4fdb-ba7a-9f1fe1e07be1",
   "metadata": {},
   "source": [
    "# Autoencoder with PCA  for Anomaly Detection"
   ]
  },
  {
   "cell_type": "code",
   "execution_count": 1,
   "id": "a15a4e8d-525d-4665-854d-3ab9e0a8c779",
   "metadata": {},
   "outputs": [
    {
     "name": "stderr",
     "output_type": "stream",
     "text": [
      "2024-01-27 22:46:59.853251: I tensorflow/core/util/port.cc:113] oneDNN custom operations are on. You may see slightly different numerical results due to floating-point round-off errors from different computation orders. To turn them off, set the environment variable `TF_ENABLE_ONEDNN_OPTS=0`.\n",
      "2024-01-27 22:46:59.870090: I tensorflow/core/platform/cpu_feature_guard.cc:182] This TensorFlow binary is optimized to use available CPU instructions in performance-critical operations.\n",
      "To enable the following instructions: AVX2 AVX_VNNI FMA, in other operations, rebuild TensorFlow with the appropriate compiler flags.\n"
     ]
    }
   ],
   "source": [
    "import pandas as pd\n",
    "import numpy as np\n",
    "from sklearn import preprocessing as pp\n",
    "import tensorflow as tf\n",
    "from sklearn.model_selection import train_test_split\n",
    "from sklearn.metrics import roc_curve\n",
    "from sklearn.metrics import average_precision_score\n",
    "from sklearn.metrics import precision_recall_curve\n",
    "from sklearn.metrics import auc\n",
    "import matplotlib.pyplot as plt\n",
    "from sklearn.decomposition import IncrementalPCA"
   ]
  },
  {
   "cell_type": "markdown",
   "id": "2827a31b-cfe4-4042-baa3-5a4e860f2644",
   "metadata": {},
   "source": [
    "## Load Data"
   ]
  },
  {
   "cell_type": "code",
   "execution_count": 2,
   "id": "bca9bae1-eea8-4232-9289-191f151fc700",
   "metadata": {},
   "outputs": [],
   "source": [
    "data = pd.read_csv('../Datasets/kitsune_dataset/SSDP_Flood/SSDP_Flood_dataset.csv', index_col=0, dtype=np.float32)\n",
    "labels = pd.read_csv('../Datasets/kitsune_dataset/SSDP_Flood/SSDP_Flood_labels.csv', index_col=0, dtype=np.int32)"
   ]
  },
  {
   "cell_type": "code",
   "execution_count": 3,
   "id": "632376a7-d050-41e7-befe-d9224e82e094",
   "metadata": {},
   "outputs": [
    {
     "name": "stdout",
     "output_type": "stream",
     "text": [
      "<class 'pandas.core.frame.DataFrame'>\n",
      "Float64Index: 4077265 entries, 1.997161626815796 to 7431.08154296875\n",
      "Columns: 114 entries, 2.090000000000000000e+02 to 0.000000000000000000e+00.54\n",
      "dtypes: float32(114)\n",
      "memory usage: 1.8 GB\n"
     ]
    }
   ],
   "source": [
    "data.info()"
   ]
  },
  {
   "cell_type": "code",
   "execution_count": 4,
   "id": "6e74df59-44b0-4cfe-a30c-2fbdff4f11c7",
   "metadata": {},
   "outputs": [
    {
     "name": "stdout",
     "output_type": "stream",
     "text": [
      "<class 'pandas.core.frame.DataFrame'>\n",
      "Int64Index: 4077266 entries, 1 to 4077266\n",
      "Data columns (total 1 columns):\n",
      " #   Column  Dtype\n",
      "---  ------  -----\n",
      " 0   x       int32\n",
      "dtypes: int32(1)\n",
      "memory usage: 46.7 MB\n"
     ]
    }
   ],
   "source": [
    "labels.info()"
   ]
  },
  {
   "cell_type": "markdown",
   "id": "3cb9daad-0dba-461c-bb1e-3d7fa1520bca",
   "metadata": {},
   "source": [
    "## Scale Data"
   ]
  },
  {
   "cell_type": "code",
   "execution_count": 5,
   "id": "a486fc47-aa0e-4954-865a-e0935f0d4320",
   "metadata": {},
   "outputs": [
    {
     "data": {
      "text/html": [
       "<div>\n",
       "<style scoped>\n",
       "    .dataframe tbody tr th:only-of-type {\n",
       "        vertical-align: middle;\n",
       "    }\n",
       "\n",
       "    .dataframe tbody tr th {\n",
       "        vertical-align: top;\n",
       "    }\n",
       "\n",
       "    .dataframe thead th {\n",
       "        text-align: right;\n",
       "    }\n",
       "</style>\n",
       "<table border=\"1\" class=\"dataframe\">\n",
       "  <thead>\n",
       "    <tr style=\"text-align: right;\">\n",
       "      <th></th>\n",
       "      <th>0</th>\n",
       "      <th>1</th>\n",
       "      <th>2</th>\n",
       "      <th>3</th>\n",
       "      <th>4</th>\n",
       "      <th>5</th>\n",
       "      <th>6</th>\n",
       "      <th>7</th>\n",
       "      <th>8</th>\n",
       "      <th>9</th>\n",
       "      <th>...</th>\n",
       "      <th>104</th>\n",
       "      <th>105</th>\n",
       "      <th>106</th>\n",
       "      <th>107</th>\n",
       "      <th>108</th>\n",
       "      <th>109</th>\n",
       "      <th>110</th>\n",
       "      <th>111</th>\n",
       "      <th>112</th>\n",
       "      <th>113</th>\n",
       "    </tr>\n",
       "  </thead>\n",
       "  <tbody>\n",
       "    <tr>\n",
       "      <th>count</th>\n",
       "      <td>4.077265e+06</td>\n",
       "      <td>4.077265e+06</td>\n",
       "      <td>4.077265e+06</td>\n",
       "      <td>4.077265e+06</td>\n",
       "      <td>4.077265e+06</td>\n",
       "      <td>4.077265e+06</td>\n",
       "      <td>4.077265e+06</td>\n",
       "      <td>4.077265e+06</td>\n",
       "      <td>4.077265e+06</td>\n",
       "      <td>4.077265e+06</td>\n",
       "      <td>...</td>\n",
       "      <td>4.077265e+06</td>\n",
       "      <td>4.077265e+06</td>\n",
       "      <td>4.077265e+06</td>\n",
       "      <td>4.077265e+06</td>\n",
       "      <td>4.077265e+06</td>\n",
       "      <td>4.077265e+06</td>\n",
       "      <td>4.077265e+06</td>\n",
       "      <td>4.077265e+06</td>\n",
       "      <td>4.077265e+06</td>\n",
       "      <td>4.077265e+06</td>\n",
       "    </tr>\n",
       "    <tr>\n",
       "      <th>mean</th>\n",
       "      <td>3.580238e-01</td>\n",
       "      <td>4.671063e-01</td>\n",
       "      <td>3.508413e-01</td>\n",
       "      <td>3.598694e-01</td>\n",
       "      <td>4.700377e-01</td>\n",
       "      <td>3.433883e-01</td>\n",
       "      <td>3.637087e-01</td>\n",
       "      <td>4.703622e-01</td>\n",
       "      <td>2.782625e-01</td>\n",
       "      <td>3.665047e-01</td>\n",
       "      <td>...</td>\n",
       "      <td>5.643966e-02</td>\n",
       "      <td>8.208480e-07</td>\n",
       "      <td>4.581425e-05</td>\n",
       "      <td>4.522811e-01</td>\n",
       "      <td>3.587175e-01</td>\n",
       "      <td>1.577588e-01</td>\n",
       "      <td>4.086633e-01</td>\n",
       "      <td>7.277953e-02</td>\n",
       "      <td>1.597313e-06</td>\n",
       "      <td>2.253427e-06</td>\n",
       "    </tr>\n",
       "    <tr>\n",
       "      <th>std</th>\n",
       "      <td>2.957265e-01</td>\n",
       "      <td>4.621330e-01</td>\n",
       "      <td>4.630089e-01</td>\n",
       "      <td>2.969780e-01</td>\n",
       "      <td>4.643876e-01</td>\n",
       "      <td>4.560021e-01</td>\n",
       "      <td>2.998802e-01</td>\n",
       "      <td>4.641721e-01</td>\n",
       "      <td>3.923702e-01</td>\n",
       "      <td>3.017395e-01</td>\n",
       "      <td>...</td>\n",
       "      <td>7.771327e-02</td>\n",
       "      <td>6.856606e-04</td>\n",
       "      <td>1.123364e-03</td>\n",
       "      <td>3.869117e-01</td>\n",
       "      <td>4.293905e-01</td>\n",
       "      <td>2.030867e-01</td>\n",
       "      <td>4.402577e-01</td>\n",
       "      <td>9.345526e-02</td>\n",
       "      <td>1.099273e-03</td>\n",
       "      <td>1.129677e-03</td>\n",
       "    </tr>\n",
       "    <tr>\n",
       "      <th>min</th>\n",
       "      <td>0.000000e+00</td>\n",
       "      <td>0.000000e+00</td>\n",
       "      <td>0.000000e+00</td>\n",
       "      <td>0.000000e+00</td>\n",
       "      <td>0.000000e+00</td>\n",
       "      <td>0.000000e+00</td>\n",
       "      <td>0.000000e+00</td>\n",
       "      <td>0.000000e+00</td>\n",
       "      <td>0.000000e+00</td>\n",
       "      <td>0.000000e+00</td>\n",
       "      <td>...</td>\n",
       "      <td>0.000000e+00</td>\n",
       "      <td>0.000000e+00</td>\n",
       "      <td>0.000000e+00</td>\n",
       "      <td>0.000000e+00</td>\n",
       "      <td>0.000000e+00</td>\n",
       "      <td>0.000000e+00</td>\n",
       "      <td>0.000000e+00</td>\n",
       "      <td>0.000000e+00</td>\n",
       "      <td>0.000000e+00</td>\n",
       "      <td>0.000000e+00</td>\n",
       "    </tr>\n",
       "    <tr>\n",
       "      <th>25%</th>\n",
       "      <td>5.492007e-02</td>\n",
       "      <td>2.417709e-16</td>\n",
       "      <td>8.583670e-03</td>\n",
       "      <td>5.516712e-02</td>\n",
       "      <td>3.243613e-16</td>\n",
       "      <td>7.681936e-03</td>\n",
       "      <td>5.571285e-02</td>\n",
       "      <td>8.520296e-16</td>\n",
       "      <td>7.668835e-03</td>\n",
       "      <td>5.607574e-02</td>\n",
       "      <td>...</td>\n",
       "      <td>7.958050e-18</td>\n",
       "      <td>1.599765e-11</td>\n",
       "      <td>4.424648e-05</td>\n",
       "      <td>4.893123e-04</td>\n",
       "      <td>5.467626e-02</td>\n",
       "      <td>3.218412e-09</td>\n",
       "      <td>5.467626e-02</td>\n",
       "      <td>1.035818e-17</td>\n",
       "      <td>4.792328e-14</td>\n",
       "      <td>6.285793e-07</td>\n",
       "    </tr>\n",
       "    <tr>\n",
       "      <th>50%</th>\n",
       "      <td>4.703829e-01</td>\n",
       "      <td>1.532744e-01</td>\n",
       "      <td>1.492918e-02</td>\n",
       "      <td>4.750757e-01</td>\n",
       "      <td>1.416185e-01</td>\n",
       "      <td>1.506229e-02</td>\n",
       "      <td>4.827601e-01</td>\n",
       "      <td>1.251880e-01</td>\n",
       "      <td>1.569101e-02</td>\n",
       "      <td>4.872446e-01</td>\n",
       "      <td>...</td>\n",
       "      <td>1.629809e-14</td>\n",
       "      <td>1.599765e-11</td>\n",
       "      <td>4.424648e-05</td>\n",
       "      <td>4.705715e-01</td>\n",
       "      <td>7.331443e-02</td>\n",
       "      <td>1.994377e-07</td>\n",
       "      <td>1.004644e-01</td>\n",
       "      <td>6.629234e-14</td>\n",
       "      <td>4.792328e-14</td>\n",
       "      <td>6.285793e-07</td>\n",
       "    </tr>\n",
       "    <tr>\n",
       "      <th>75%</th>\n",
       "      <td>4.916134e-01</td>\n",
       "      <td>9.532721e-01</td>\n",
       "      <td>9.878299e-01</td>\n",
       "      <td>4.932150e-01</td>\n",
       "      <td>9.614484e-01</td>\n",
       "      <td>9.880919e-01</td>\n",
       "      <td>4.973904e-01</td>\n",
       "      <td>9.645034e-01</td>\n",
       "      <td>7.077904e-01</td>\n",
       "      <td>5.011610e-01</td>\n",
       "      <td>...</td>\n",
       "      <td>1.002747e-01</td>\n",
       "      <td>1.599765e-11</td>\n",
       "      <td>4.424648e-05</td>\n",
       "      <td>8.454109e-01</td>\n",
       "      <td>9.649540e-01</td>\n",
       "      <td>3.570667e-01</td>\n",
       "      <td>9.666380e-01</td>\n",
       "      <td>1.293227e-01</td>\n",
       "      <td>4.792328e-14</td>\n",
       "      <td>6.285793e-07</td>\n",
       "    </tr>\n",
       "    <tr>\n",
       "      <th>max</th>\n",
       "      <td>1.000000e+00</td>\n",
       "      <td>9.999999e-01</td>\n",
       "      <td>1.000000e+00</td>\n",
       "      <td>1.000000e+00</td>\n",
       "      <td>1.000000e+00</td>\n",
       "      <td>1.000000e+00</td>\n",
       "      <td>1.000000e+00</td>\n",
       "      <td>1.000000e+00</td>\n",
       "      <td>1.000000e+00</td>\n",
       "      <td>9.999999e-01</td>\n",
       "      <td>...</td>\n",
       "      <td>1.000000e+00</td>\n",
       "      <td>1.000000e+00</td>\n",
       "      <td>9.999999e-01</td>\n",
       "      <td>1.000000e+00</td>\n",
       "      <td>1.000000e+00</td>\n",
       "      <td>1.000000e+00</td>\n",
       "      <td>1.000000e+00</td>\n",
       "      <td>1.000000e+00</td>\n",
       "      <td>1.000000e+00</td>\n",
       "      <td>1.000000e+00</td>\n",
       "    </tr>\n",
       "  </tbody>\n",
       "</table>\n",
       "<p>8 rows × 114 columns</p>\n",
       "</div>"
      ],
      "text/plain": [
       "                0             1             2             3             4    \\\n",
       "count  4.077265e+06  4.077265e+06  4.077265e+06  4.077265e+06  4.077265e+06   \n",
       "mean   3.580238e-01  4.671063e-01  3.508413e-01  3.598694e-01  4.700377e-01   \n",
       "std    2.957265e-01  4.621330e-01  4.630089e-01  2.969780e-01  4.643876e-01   \n",
       "min    0.000000e+00  0.000000e+00  0.000000e+00  0.000000e+00  0.000000e+00   \n",
       "25%    5.492007e-02  2.417709e-16  8.583670e-03  5.516712e-02  3.243613e-16   \n",
       "50%    4.703829e-01  1.532744e-01  1.492918e-02  4.750757e-01  1.416185e-01   \n",
       "75%    4.916134e-01  9.532721e-01  9.878299e-01  4.932150e-01  9.614484e-01   \n",
       "max    1.000000e+00  9.999999e-01  1.000000e+00  1.000000e+00  1.000000e+00   \n",
       "\n",
       "                5             6             7             8             9    \\\n",
       "count  4.077265e+06  4.077265e+06  4.077265e+06  4.077265e+06  4.077265e+06   \n",
       "mean   3.433883e-01  3.637087e-01  4.703622e-01  2.782625e-01  3.665047e-01   \n",
       "std    4.560021e-01  2.998802e-01  4.641721e-01  3.923702e-01  3.017395e-01   \n",
       "min    0.000000e+00  0.000000e+00  0.000000e+00  0.000000e+00  0.000000e+00   \n",
       "25%    7.681936e-03  5.571285e-02  8.520296e-16  7.668835e-03  5.607574e-02   \n",
       "50%    1.506229e-02  4.827601e-01  1.251880e-01  1.569101e-02  4.872446e-01   \n",
       "75%    9.880919e-01  4.973904e-01  9.645034e-01  7.077904e-01  5.011610e-01   \n",
       "max    1.000000e+00  1.000000e+00  1.000000e+00  1.000000e+00  9.999999e-01   \n",
       "\n",
       "       ...           104           105           106           107  \\\n",
       "count  ...  4.077265e+06  4.077265e+06  4.077265e+06  4.077265e+06   \n",
       "mean   ...  5.643966e-02  8.208480e-07  4.581425e-05  4.522811e-01   \n",
       "std    ...  7.771327e-02  6.856606e-04  1.123364e-03  3.869117e-01   \n",
       "min    ...  0.000000e+00  0.000000e+00  0.000000e+00  0.000000e+00   \n",
       "25%    ...  7.958050e-18  1.599765e-11  4.424648e-05  4.893123e-04   \n",
       "50%    ...  1.629809e-14  1.599765e-11  4.424648e-05  4.705715e-01   \n",
       "75%    ...  1.002747e-01  1.599765e-11  4.424648e-05  8.454109e-01   \n",
       "max    ...  1.000000e+00  1.000000e+00  9.999999e-01  1.000000e+00   \n",
       "\n",
       "                108           109           110           111           112  \\\n",
       "count  4.077265e+06  4.077265e+06  4.077265e+06  4.077265e+06  4.077265e+06   \n",
       "mean   3.587175e-01  1.577588e-01  4.086633e-01  7.277953e-02  1.597313e-06   \n",
       "std    4.293905e-01  2.030867e-01  4.402577e-01  9.345526e-02  1.099273e-03   \n",
       "min    0.000000e+00  0.000000e+00  0.000000e+00  0.000000e+00  0.000000e+00   \n",
       "25%    5.467626e-02  3.218412e-09  5.467626e-02  1.035818e-17  4.792328e-14   \n",
       "50%    7.331443e-02  1.994377e-07  1.004644e-01  6.629234e-14  4.792328e-14   \n",
       "75%    9.649540e-01  3.570667e-01  9.666380e-01  1.293227e-01  4.792328e-14   \n",
       "max    1.000000e+00  1.000000e+00  1.000000e+00  1.000000e+00  1.000000e+00   \n",
       "\n",
       "                113  \n",
       "count  4.077265e+06  \n",
       "mean   2.253427e-06  \n",
       "std    1.129677e-03  \n",
       "min    0.000000e+00  \n",
       "25%    6.285793e-07  \n",
       "50%    6.285793e-07  \n",
       "75%    6.285793e-07  \n",
       "max    1.000000e+00  \n",
       "\n",
       "[8 rows x 114 columns]"
      ]
     },
     "execution_count": 5,
     "metadata": {},
     "output_type": "execute_result"
    }
   ],
   "source": [
    "scaler = pp.MinMaxScaler()\n",
    "data = scaler.fit_transform(data)\n",
    "data = pd.DataFrame(data)\n",
    "data.describe()"
   ]
  },
  {
   "cell_type": "markdown",
   "id": "5654d1d8-7ca5-4f31-93d2-005acabef525",
   "metadata": {},
   "source": [
    "## Train-Test Split"
   ]
  },
  {
   "cell_type": "code",
   "execution_count": 6,
   "id": "45a90aa3-29f2-4579-962b-5c93d81b89cd",
   "metadata": {},
   "outputs": [],
   "source": [
    "# drop the last row\n",
    "labels=labels[:-1]\n",
    "labels.tail(5)\n",
    "# train-test split\n",
    "X_train, X_test, y_train, y_test = train_test_split(data, labels, shuffle=False, test_size=0.3)"
   ]
  },
  {
   "cell_type": "code",
   "execution_count": 7,
   "id": "9f687ec7-3c07-462f-964a-4a108aab07f8",
   "metadata": {},
   "outputs": [
    {
     "name": "stdout",
     "output_type": "stream",
     "text": [
      "Number anomalies in train data: x    229441\n",
      "dtype: int64\n",
      "Number anomalies in test data: x    1210162\n",
      "dtype: int64\n"
     ]
    }
   ],
   "source": [
    "# anomaly counts\n",
    "print(f'Number anomalies in train data: {y_train.sum()}')\n",
    "print(f'Number anomalies in test data: {y_test.sum()}')"
   ]
  },
  {
   "cell_type": "markdown",
   "id": "b9dfd2c7-865c-4e7a-a0a4-aaa56e30b786",
   "metadata": {},
   "source": [
    "## Define Model"
   ]
  },
  {
   "cell_type": "code",
   "execution_count": 8,
   "id": "db6f6ae3-3b46-4c58-a1bf-80dfd162e4b4",
   "metadata": {},
   "outputs": [
    {
     "data": {
      "text/html": [
       "<style>#sk-container-id-1 {color: black;background-color: white;}#sk-container-id-1 pre{padding: 0;}#sk-container-id-1 div.sk-toggleable {background-color: white;}#sk-container-id-1 label.sk-toggleable__label {cursor: pointer;display: block;width: 100%;margin-bottom: 0;padding: 0.3em;box-sizing: border-box;text-align: center;}#sk-container-id-1 label.sk-toggleable__label-arrow:before {content: \"▸\";float: left;margin-right: 0.25em;color: #696969;}#sk-container-id-1 label.sk-toggleable__label-arrow:hover:before {color: black;}#sk-container-id-1 div.sk-estimator:hover label.sk-toggleable__label-arrow:before {color: black;}#sk-container-id-1 div.sk-toggleable__content {max-height: 0;max-width: 0;overflow: hidden;text-align: left;background-color: #f0f8ff;}#sk-container-id-1 div.sk-toggleable__content pre {margin: 0.2em;color: black;border-radius: 0.25em;background-color: #f0f8ff;}#sk-container-id-1 input.sk-toggleable__control:checked~div.sk-toggleable__content {max-height: 200px;max-width: 100%;overflow: auto;}#sk-container-id-1 input.sk-toggleable__control:checked~label.sk-toggleable__label-arrow:before {content: \"▾\";}#sk-container-id-1 div.sk-estimator input.sk-toggleable__control:checked~label.sk-toggleable__label {background-color: #d4ebff;}#sk-container-id-1 div.sk-label input.sk-toggleable__control:checked~label.sk-toggleable__label {background-color: #d4ebff;}#sk-container-id-1 input.sk-hidden--visually {border: 0;clip: rect(1px 1px 1px 1px);clip: rect(1px, 1px, 1px, 1px);height: 1px;margin: -1px;overflow: hidden;padding: 0;position: absolute;width: 1px;}#sk-container-id-1 div.sk-estimator {font-family: monospace;background-color: #f0f8ff;border: 1px dotted black;border-radius: 0.25em;box-sizing: border-box;margin-bottom: 0.5em;}#sk-container-id-1 div.sk-estimator:hover {background-color: #d4ebff;}#sk-container-id-1 div.sk-parallel-item::after {content: \"\";width: 100%;border-bottom: 1px solid gray;flex-grow: 1;}#sk-container-id-1 div.sk-label:hover label.sk-toggleable__label {background-color: #d4ebff;}#sk-container-id-1 div.sk-serial::before {content: \"\";position: absolute;border-left: 1px solid gray;box-sizing: border-box;top: 0;bottom: 0;left: 50%;z-index: 0;}#sk-container-id-1 div.sk-serial {display: flex;flex-direction: column;align-items: center;background-color: white;padding-right: 0.2em;padding-left: 0.2em;position: relative;}#sk-container-id-1 div.sk-item {position: relative;z-index: 1;}#sk-container-id-1 div.sk-parallel {display: flex;align-items: stretch;justify-content: center;background-color: white;position: relative;}#sk-container-id-1 div.sk-item::before, #sk-container-id-1 div.sk-parallel-item::before {content: \"\";position: absolute;border-left: 1px solid gray;box-sizing: border-box;top: 0;bottom: 0;left: 50%;z-index: -1;}#sk-container-id-1 div.sk-parallel-item {display: flex;flex-direction: column;z-index: 1;position: relative;background-color: white;}#sk-container-id-1 div.sk-parallel-item:first-child::after {align-self: flex-end;width: 50%;}#sk-container-id-1 div.sk-parallel-item:last-child::after {align-self: flex-start;width: 50%;}#sk-container-id-1 div.sk-parallel-item:only-child::after {width: 0;}#sk-container-id-1 div.sk-dashed-wrapped {border: 1px dashed gray;margin: 0 0.4em 0.5em 0.4em;box-sizing: border-box;padding-bottom: 0.4em;background-color: white;}#sk-container-id-1 div.sk-label label {font-family: monospace;font-weight: bold;display: inline-block;line-height: 1.2em;}#sk-container-id-1 div.sk-label-container {text-align: center;}#sk-container-id-1 div.sk-container {/* jupyter's `normalize.less` sets `[hidden] { display: none; }` but bootstrap.min.css set `[hidden] { display: none !important; }` so we also need the `!important` here to be able to override the default hidden behavior on the sphinx rendered scikit-learn.org. See: https://github.com/scikit-learn/scikit-learn/issues/21755 */display: inline-block !important;position: relative;}#sk-container-id-1 div.sk-text-repr-fallback {display: none;}</style><div id=\"sk-container-id-1\" class=\"sk-top-container\"><div class=\"sk-text-repr-fallback\"><pre>IncrementalPCA(batch_size=2048, n_components=16)</pre><b>In a Jupyter environment, please rerun this cell to show the HTML representation or trust the notebook. <br />On GitHub, the HTML representation is unable to render, please try loading this page with nbviewer.org.</b></div><div class=\"sk-container\" hidden><div class=\"sk-item\"><div class=\"sk-estimator sk-toggleable\"><input class=\"sk-toggleable__control sk-hidden--visually\" id=\"sk-estimator-id-1\" type=\"checkbox\" checked><label for=\"sk-estimator-id-1\" class=\"sk-toggleable__label sk-toggleable__label-arrow\">IncrementalPCA</label><div class=\"sk-toggleable__content\"><pre>IncrementalPCA(batch_size=2048, n_components=16)</pre></div></div></div></div></div>"
      ],
      "text/plain": [
       "IncrementalPCA(batch_size=2048, n_components=16)"
      ]
     },
     "execution_count": 8,
     "metadata": {},
     "output_type": "execute_result"
    }
   ],
   "source": [
    "model = IncrementalPCA(n_components=16, batch_size=2048)\n",
    "model.fit(X_train)"
   ]
  },
  {
   "cell_type": "code",
   "execution_count": 9,
   "id": "31e44120-c080-4821-ae1b-64b27f15139b",
   "metadata": {},
   "outputs": [
    {
     "name": "stdout",
     "output_type": "stream",
     "text": [
      "(2854085, 16)\n"
     ]
    }
   ],
   "source": [
    "X_train_clust = model.transform(X_train)\n",
    "print(X_train_clust.shape)"
   ]
  },
  {
   "cell_type": "code",
   "execution_count": 10,
   "id": "f9e9dfba-ab76-4f95-b92b-d8f8ac93a389",
   "metadata": {},
   "outputs": [
    {
     "name": "stdout",
     "output_type": "stream",
     "text": [
      "(1223180, 16)\n"
     ]
    }
   ],
   "source": [
    "X_test_clust = model.transform(X_test)\n",
    "print(X_test_clust.shape)"
   ]
  },
  {
   "cell_type": "markdown",
   "id": "72047bb0-db41-4862-b02a-0efed1b46ba1",
   "metadata": {},
   "source": [
    "## Define Autoencoder"
   ]
  },
  {
   "cell_type": "code",
   "execution_count": 11,
   "id": "e7ab98af-9839-4b85-9278-bde6e8a8f02d",
   "metadata": {},
   "outputs": [],
   "source": [
    "# model parameters\n",
    "n_input = X_train_clust.shape[1]\n",
    "n_hidden = 8"
   ]
  },
  {
   "cell_type": "code",
   "execution_count": 12,
   "id": "72bffaea-256e-412b-a74a-8162a8177d16",
   "metadata": {},
   "outputs": [],
   "source": [
    "def autoencoder(n_input, n_hidden, lr=0.001):\n",
    "    # define layers\n",
    "    inputs = tf.keras.Input(shape=(n_input,))\n",
    "    dense1 = tf.keras.layers.Dense(n_hidden, activation='relu')\n",
    "    outputs = tf.keras.layers.Dense(n_input, activation='linear')\n",
    "    layers = [inputs, dense1, outputs]\n",
    "    # create model\n",
    "    model = tf.keras.models.Sequential(layers)\n",
    "    model.summary()\n",
    "    # compile model\n",
    "    opt = tf.keras.optimizers.Adam(learning_rate=lr)\n",
    "    rmse = tf.keras.metrics.RootMeanSquaredError()\n",
    "    mae = tf.keras.metrics.MeanAbsoluteError()\n",
    "    model.compile(optimizer=opt, loss='mean_squared_error', metrics=[rmse, mae])\n",
    "    return model"
   ]
  },
  {
   "cell_type": "markdown",
   "id": "b5b704c2-0ecb-4487-b053-56c1921a28b7",
   "metadata": {},
   "source": [
    "## Train"
   ]
  },
  {
   "cell_type": "code",
   "execution_count": 13,
   "id": "68542f59-67c3-439f-9575-56355ed42e60",
   "metadata": {},
   "outputs": [
    {
     "name": "stdout",
     "output_type": "stream",
     "text": [
      "Model: \"sequential\"\n",
      "_________________________________________________________________\n",
      " Layer (type)                Output Shape              Param #   \n",
      "=================================================================\n",
      " dense (Dense)               (None, 8)                 136       \n",
      "                                                                 \n",
      " dense_1 (Dense)             (None, 16)                144       \n",
      "                                                                 \n",
      "=================================================================\n",
      "Total params: 280 (1.09 KB)\n",
      "Trainable params: 280 (1.09 KB)\n",
      "Non-trainable params: 0 (0.00 Byte)\n",
      "_________________________________________________________________\n"
     ]
    }
   ],
   "source": [
    "model = autoencoder(n_input, n_hidden, lr=0.001)"
   ]
  },
  {
   "cell_type": "code",
   "execution_count": 14,
   "id": "67e825bc-5aaf-46c7-b9de-ccac31c374f3",
   "metadata": {},
   "outputs": [
    {
     "name": "stdout",
     "output_type": "stream",
     "text": [
      "Epoch 1/100\n",
      "286/286 [==============================] - 1s 2ms/step - loss: 0.5295 - root_mean_squared_error: 0.7276 - mean_absolute_error: 0.4402 - val_loss: 0.9071 - val_root_mean_squared_error: 0.9524 - val_mean_absolute_error: 0.7058\n",
      "Epoch 2/100\n",
      "286/286 [==============================] - 0s 968us/step - loss: 0.1408 - root_mean_squared_error: 0.3752 - mean_absolute_error: 0.2315 - val_loss: 0.1809 - val_root_mean_squared_error: 0.4253 - val_mean_absolute_error: 0.3084\n",
      "Epoch 3/100\n",
      "286/286 [==============================] - 0s 1ms/step - loss: 0.0179 - root_mean_squared_error: 0.1337 - mean_absolute_error: 0.0790 - val_loss: 0.1584 - val_root_mean_squared_error: 0.3980 - val_mean_absolute_error: 0.2618\n",
      "Epoch 4/100\n",
      "286/286 [==============================] - 0s 929us/step - loss: 0.0102 - root_mean_squared_error: 0.1009 - mean_absolute_error: 0.0575 - val_loss: 0.1528 - val_root_mean_squared_error: 0.3909 - val_mean_absolute_error: 0.2532\n",
      "Epoch 5/100\n",
      "286/286 [==============================] - 0s 951us/step - loss: 0.0090 - root_mean_squared_error: 0.0951 - mean_absolute_error: 0.0549 - val_loss: 0.1484 - val_root_mean_squared_error: 0.3852 - val_mean_absolute_error: 0.2505\n",
      "Epoch 6/100\n",
      "286/286 [==============================] - 0s 946us/step - loss: 0.0079 - root_mean_squared_error: 0.0890 - mean_absolute_error: 0.0533 - val_loss: 0.1455 - val_root_mean_squared_error: 0.3815 - val_mean_absolute_error: 0.2475\n",
      "Epoch 7/100\n",
      "286/286 [==============================] - 0s 930us/step - loss: 0.0068 - root_mean_squared_error: 0.0822 - mean_absolute_error: 0.0506 - val_loss: 0.1462 - val_root_mean_squared_error: 0.3824 - val_mean_absolute_error: 0.2493\n",
      "Epoch 8/100\n",
      "286/286 [==============================] - 0s 933us/step - loss: 0.0059 - root_mean_squared_error: 0.0769 - mean_absolute_error: 0.0475 - val_loss: 0.1512 - val_root_mean_squared_error: 0.3888 - val_mean_absolute_error: 0.2540\n",
      "Epoch 9/100\n",
      "286/286 [==============================] - 0s 934us/step - loss: 0.0054 - root_mean_squared_error: 0.0733 - mean_absolute_error: 0.0448 - val_loss: 0.1558 - val_root_mean_squared_error: 0.3947 - val_mean_absolute_error: 0.2519\n",
      "Epoch 10/100\n",
      "286/286 [==============================] - 0s 989us/step - loss: 0.0049 - root_mean_squared_error: 0.0702 - mean_absolute_error: 0.0427 - val_loss: 0.1599 - val_root_mean_squared_error: 0.3999 - val_mean_absolute_error: 0.2490\n",
      "Epoch 11/100\n",
      "286/286 [==============================] - 0s 1ms/step - loss: 0.0046 - root_mean_squared_error: 0.0681 - mean_absolute_error: 0.0411 - val_loss: 0.1604 - val_root_mean_squared_error: 0.4005 - val_mean_absolute_error: 0.2483\n",
      "Epoch 12/100\n",
      "286/286 [==============================] - 0s 956us/step - loss: 0.0044 - root_mean_squared_error: 0.0663 - mean_absolute_error: 0.0398 - val_loss: 0.1570 - val_root_mean_squared_error: 0.3963 - val_mean_absolute_error: 0.2446\n",
      "Epoch 13/100\n",
      "286/286 [==============================] - 0s 968us/step - loss: 0.0042 - root_mean_squared_error: 0.0647 - mean_absolute_error: 0.0389 - val_loss: 0.1509 - val_root_mean_squared_error: 0.3885 - val_mean_absolute_error: 0.2390\n",
      "Epoch 14/100\n",
      "286/286 [==============================] - 0s 934us/step - loss: 0.0040 - root_mean_squared_error: 0.0633 - mean_absolute_error: 0.0381 - val_loss: 0.1421 - val_root_mean_squared_error: 0.3769 - val_mean_absolute_error: 0.2328\n",
      "Epoch 15/100\n",
      "286/286 [==============================] - 0s 976us/step - loss: 0.0039 - root_mean_squared_error: 0.0622 - mean_absolute_error: 0.0375 - val_loss: 0.1338 - val_root_mean_squared_error: 0.3658 - val_mean_absolute_error: 0.2325\n",
      "Epoch 16/100\n",
      "286/286 [==============================] - 0s 1ms/step - loss: 0.0037 - root_mean_squared_error: 0.0609 - mean_absolute_error: 0.0369 - val_loss: 0.1229 - val_root_mean_squared_error: 0.3506 - val_mean_absolute_error: 0.2302\n",
      "Epoch 17/100\n",
      "286/286 [==============================] - 0s 975us/step - loss: 0.0036 - root_mean_squared_error: 0.0598 - mean_absolute_error: 0.0362 - val_loss: 0.1134 - val_root_mean_squared_error: 0.3368 - val_mean_absolute_error: 0.2247\n",
      "Epoch 18/100\n",
      "286/286 [==============================] - 0s 964us/step - loss: 0.0034 - root_mean_squared_error: 0.0587 - mean_absolute_error: 0.0355 - val_loss: 0.1070 - val_root_mean_squared_error: 0.3271 - val_mean_absolute_error: 0.2163\n",
      "Epoch 19/100\n",
      "286/286 [==============================] - 0s 994us/step - loss: 0.0034 - root_mean_squared_error: 0.0579 - mean_absolute_error: 0.0350 - val_loss: 0.1035 - val_root_mean_squared_error: 0.3217 - val_mean_absolute_error: 0.2085\n",
      "Epoch 20/100\n",
      "286/286 [==============================] - 0s 942us/step - loss: 0.0033 - root_mean_squared_error: 0.0572 - mean_absolute_error: 0.0344 - val_loss: 0.1027 - val_root_mean_squared_error: 0.3204 - val_mean_absolute_error: 0.2012\n",
      "Epoch 21/100\n",
      "286/286 [==============================] - 0s 983us/step - loss: 0.0032 - root_mean_squared_error: 0.0567 - mean_absolute_error: 0.0340 - val_loss: 0.1034 - val_root_mean_squared_error: 0.3215 - val_mean_absolute_error: 0.1955\n",
      "Epoch 22/100\n",
      "286/286 [==============================] - 0s 950us/step - loss: 0.0032 - root_mean_squared_error: 0.0561 - mean_absolute_error: 0.0336 - val_loss: 0.1038 - val_root_mean_squared_error: 0.3222 - val_mean_absolute_error: 0.1927\n",
      "Epoch 23/100\n",
      "286/286 [==============================] - 0s 994us/step - loss: 0.0031 - root_mean_squared_error: 0.0556 - mean_absolute_error: 0.0332 - val_loss: 0.1038 - val_root_mean_squared_error: 0.3222 - val_mean_absolute_error: 0.1916\n",
      "Epoch 24/100\n",
      "286/286 [==============================] - 0s 940us/step - loss: 0.0030 - root_mean_squared_error: 0.0552 - mean_absolute_error: 0.0328 - val_loss: 0.1047 - val_root_mean_squared_error: 0.3236 - val_mean_absolute_error: 0.1907\n",
      "Epoch 25/100\n",
      "286/286 [==============================] - 0s 1ms/step - loss: 0.0030 - root_mean_squared_error: 0.0547 - mean_absolute_error: 0.0324 - val_loss: 0.1027 - val_root_mean_squared_error: 0.3204 - val_mean_absolute_error: 0.1895\n",
      "Epoch 26/100\n",
      "286/286 [==============================] - 0s 952us/step - loss: 0.0029 - root_mean_squared_error: 0.0541 - mean_absolute_error: 0.0320 - val_loss: 0.0949 - val_root_mean_squared_error: 0.3081 - val_mean_absolute_error: 0.1837\n",
      "Epoch 27/100\n",
      "286/286 [==============================] - 0s 1ms/step - loss: 0.0029 - root_mean_squared_error: 0.0534 - mean_absolute_error: 0.0315 - val_loss: 0.0856 - val_root_mean_squared_error: 0.2926 - val_mean_absolute_error: 0.1748\n",
      "Epoch 28/100\n",
      "286/286 [==============================] - 0s 975us/step - loss: 0.0028 - root_mean_squared_error: 0.0527 - mean_absolute_error: 0.0310 - val_loss: 0.0784 - val_root_mean_squared_error: 0.2800 - val_mean_absolute_error: 0.1664\n",
      "Epoch 29/100\n",
      "286/286 [==============================] - 0s 968us/step - loss: 0.0027 - root_mean_squared_error: 0.0520 - mean_absolute_error: 0.0303 - val_loss: 0.0740 - val_root_mean_squared_error: 0.2720 - val_mean_absolute_error: 0.1604\n",
      "Epoch 30/100\n",
      "286/286 [==============================] - 0s 982us/step - loss: 0.0026 - root_mean_squared_error: 0.0514 - mean_absolute_error: 0.0297 - val_loss: 0.0698 - val_root_mean_squared_error: 0.2643 - val_mean_absolute_error: 0.1556\n",
      "Epoch 31/100\n",
      "286/286 [==============================] - 0s 980us/step - loss: 0.0026 - root_mean_squared_error: 0.0509 - mean_absolute_error: 0.0291 - val_loss: 0.0660 - val_root_mean_squared_error: 0.2569 - val_mean_absolute_error: 0.1512\n",
      "Epoch 32/100\n",
      "286/286 [==============================] - 0s 1ms/step - loss: 0.0025 - root_mean_squared_error: 0.0504 - mean_absolute_error: 0.0287 - val_loss: 0.0632 - val_root_mean_squared_error: 0.2514 - val_mean_absolute_error: 0.1490\n",
      "Epoch 33/100\n",
      "286/286 [==============================] - 0s 1ms/step - loss: 0.0025 - root_mean_squared_error: 0.0501 - mean_absolute_error: 0.0284 - val_loss: 0.0599 - val_root_mean_squared_error: 0.2447 - val_mean_absolute_error: 0.1437\n",
      "Epoch 34/100\n",
      "286/286 [==============================] - 0s 1ms/step - loss: 0.0025 - root_mean_squared_error: 0.0496 - mean_absolute_error: 0.0277 - val_loss: 0.0579 - val_root_mean_squared_error: 0.2407 - val_mean_absolute_error: 0.1416\n",
      "Epoch 35/100\n",
      "286/286 [==============================] - 0s 945us/step - loss: 0.0024 - root_mean_squared_error: 0.0490 - mean_absolute_error: 0.0269 - val_loss: 0.0574 - val_root_mean_squared_error: 0.2395 - val_mean_absolute_error: 0.1459\n",
      "Epoch 36/100\n",
      "286/286 [==============================] - 0s 1ms/step - loss: 0.0024 - root_mean_squared_error: 0.0488 - mean_absolute_error: 0.0267 - val_loss: 0.0566 - val_root_mean_squared_error: 0.2380 - val_mean_absolute_error: 0.1443\n",
      "Epoch 37/100\n",
      "286/286 [==============================] - 0s 959us/step - loss: 0.0024 - root_mean_squared_error: 0.0486 - mean_absolute_error: 0.0265 - val_loss: 0.0561 - val_root_mean_squared_error: 0.2370 - val_mean_absolute_error: 0.1428\n",
      "Epoch 38/100\n",
      "286/286 [==============================] - 0s 940us/step - loss: 0.0023 - root_mean_squared_error: 0.0480 - mean_absolute_error: 0.0256 - val_loss: 0.0566 - val_root_mean_squared_error: 0.2379 - val_mean_absolute_error: 0.1454\n",
      "Epoch 39/100\n",
      "286/286 [==============================] - 0s 1ms/step - loss: 0.0022 - root_mean_squared_error: 0.0469 - mean_absolute_error: 0.0242 - val_loss: 0.0593 - val_root_mean_squared_error: 0.2436 - val_mean_absolute_error: 0.1514\n",
      "Epoch 40/100\n",
      "286/286 [==============================] - 0s 977us/step - loss: 0.0022 - root_mean_squared_error: 0.0465 - mean_absolute_error: 0.0242 - val_loss: 0.0641 - val_root_mean_squared_error: 0.2533 - val_mean_absolute_error: 0.1575\n",
      "Epoch 41/100\n",
      "286/286 [==============================] - 0s 948us/step - loss: 0.0021 - root_mean_squared_error: 0.0463 - mean_absolute_error: 0.0243 - val_loss: 0.0702 - val_root_mean_squared_error: 0.2650 - val_mean_absolute_error: 0.1637\n",
      "Epoch 42/100\n",
      "286/286 [==============================] - 0s 1ms/step - loss: 0.0021 - root_mean_squared_error: 0.0460 - mean_absolute_error: 0.0243 - val_loss: 0.0777 - val_root_mean_squared_error: 0.2788 - val_mean_absolute_error: 0.1714\n",
      "Epoch 43/100\n",
      "286/286 [==============================] - 0s 1ms/step - loss: 0.0021 - root_mean_squared_error: 0.0457 - mean_absolute_error: 0.0241 - val_loss: 0.0831 - val_root_mean_squared_error: 0.2882 - val_mean_absolute_error: 0.1764\n",
      "Epoch 44/100\n",
      "286/286 [==============================] - 0s 979us/step - loss: 0.0021 - root_mean_squared_error: 0.0455 - mean_absolute_error: 0.0241 - val_loss: 0.0919 - val_root_mean_squared_error: 0.3032 - val_mean_absolute_error: 0.1820\n",
      "Epoch 45/100\n",
      "286/286 [==============================] - 0s 981us/step - loss: 0.0021 - root_mean_squared_error: 0.0454 - mean_absolute_error: 0.0240 - val_loss: 0.0979 - val_root_mean_squared_error: 0.3129 - val_mean_absolute_error: 0.1860\n",
      "Epoch 46/100\n",
      "286/286 [==============================] - 0s 988us/step - loss: 0.0020 - root_mean_squared_error: 0.0452 - mean_absolute_error: 0.0240 - val_loss: 0.1017 - val_root_mean_squared_error: 0.3188 - val_mean_absolute_error: 0.1857\n",
      "Epoch 47/100\n",
      "286/286 [==============================] - 0s 947us/step - loss: 0.0020 - root_mean_squared_error: 0.0451 - mean_absolute_error: 0.0238 - val_loss: 0.1105 - val_root_mean_squared_error: 0.3324 - val_mean_absolute_error: 0.1906\n"
     ]
    }
   ],
   "source": [
    "early_stopping = tf.keras.callbacks.EarlyStopping(monitor='val_loss',\n",
    "                                                  min_delta=0.0001,\n",
    "                                                  patience=10,\n",
    "                                                  verbose=0,\n",
    "                                                  mode='auto',\n",
    "                                                  restore_best_weights=True)\n",
    "history = model.fit(X_train_clust,\n",
    "                    X_train_clust,\n",
    "                    epochs=100,\n",
    "                    batch_size=10000,\n",
    "                    validation_data=(X_test_clust, X_test_clust),\n",
    "                    callbacks=[early_stopping],\n",
    "                    verbose=1)"
   ]
  },
  {
   "cell_type": "code",
   "execution_count": 15,
   "id": "0284ad8c-0e19-445c-b3b3-d80e4040d4d3",
   "metadata": {},
   "outputs": [
    {
     "name": "stdout",
     "output_type": "stream",
     "text": [
      "Minimal Loss: 0.0561\n"
     ]
    },
    {
     "data": {
      "image/png": "[encoded data removed]",
      "text/plain": [
       "<Figure size 1000x500 with 1 Axes>"
      ]
     },
     "metadata": {},
     "output_type": "display_data"
    }
   ],
   "source": [
    "loss = history.history['loss']\n",
    "val_loss = history.history['val_loss']\n",
    "min_loss = min(val_loss)\n",
    "print(f'Minimal Loss: {min_loss:.4f}')\n",
    "plt.figure(figsize=(10,5))\n",
    "plt.plot(loss, 'r', label='Loss of training data')\n",
    "plt.plot(val_loss, 'b-', label='Loss of validation data')\n",
    "plt.title('Model Loss')\n",
    "plt.ylabel('Loss')\n",
    "plt.xlabel('Training Epoch')\n",
    "plt.legend()\n",
    "plt.show()"
   ]
  },
  {
   "cell_type": "markdown",
   "id": "d6d6271e-530e-476a-8f23-2d475fc01f59",
   "metadata": {},
   "source": [
    "## Evaluate"
   ]
  },
  {
   "cell_type": "code",
   "execution_count": 16,
   "id": "e80a5165-df10-49d7-875d-880a707fc635",
   "metadata": {},
   "outputs": [
    {
     "name": "stdout",
     "output_type": "stream",
     "text": [
      "38225/38225 [==============================] - 9s 234us/step\n"
     ]
    }
   ],
   "source": [
    "predictions = model.predict(X_test_clust, verbose=1)"
   ]
  },
  {
   "cell_type": "code",
   "execution_count": 17,
   "id": "1fd5d998-f145-4662-85bd-4f10b4509382",
   "metadata": {},
   "outputs": [],
   "source": [
    "def reconstr_error(original, reconstr):\n",
    "    errors = np.sqrt(np.sum((original - reconstr)**2, axis=1))\n",
    "    return errors"
   ]
  },
  {
   "cell_type": "code",
   "execution_count": 18,
   "id": "77b9a670-a70b-41e6-8b8b-865cfe8289c9",
   "metadata": {},
   "outputs": [],
   "source": [
    "errors = reconstr_error(X_test_clust, predictions)"
   ]
  },
  {
   "cell_type": "code",
   "execution_count": 19,
   "id": "bc3c4c8c-fb5a-4c6c-80e6-64ff8c38fded",
   "metadata": {},
   "outputs": [
    {
     "name": "stdout",
     "output_type": "stream",
     "text": [
      "Average precision score for test: 0.9796\n"
     ]
    }
   ],
   "source": [
    "# average precision score train\n",
    "aps_test = average_precision_score(y_test, errors)\n",
    "print(f'Average precision score for test: {aps_test:.4f}')"
   ]
  },
  {
   "cell_type": "code",
   "execution_count": 20,
   "id": "bd4d160c-8737-42ac-8dcb-1ebed8e6ee9b",
   "metadata": {},
   "outputs": [
    {
     "data": {
      "image/png": "[encoded data removed]",
      "text/plain": [
       "<Figure size 640x480 with 1 Axes>"
      ]
     },
     "metadata": {},
     "output_type": "display_data"
    }
   ],
   "source": [
    "# precision-recall curve for test results\n",
    "precision, recall, thresholds = precision_recall_curve(y_test, errors)\n",
    "plt.title(f'Precision-Recall Curve. Average precision: {aps_test:.2f}')\n",
    "plt.xlabel('Recall')\n",
    "plt.xlim([0, 1.1])\n",
    "plt.ylim([0, 1.1])\n",
    "plt.ylabel('Precision')\n",
    "#plt.ylim([0, 1.1])\n",
    "#plt.xlim([0, 1.0])\n",
    "plt.plot(recall, precision)\n",
    "plt.show()"
   ]
  },
  {
   "cell_type": "code",
   "execution_count": 21,
   "id": "a2e2a65d-1930-456d-930d-c3af8892a753",
   "metadata": {},
   "outputs": [
    {
     "data": {
      "image/png": "[encoded data removed]",
      "text/plain": [
       "<Figure size 640x480 with 1 Axes>"
      ]
     },
     "metadata": {},
     "output_type": "display_data"
    }
   ],
   "source": [
    "# receiver operational characteristic\n",
    "fpr, tpr, thresholds = roc_curve(y_test, errors)\n",
    "auROC = auc(fpr, tpr)\n",
    "plt.figure()\n",
    "plt.title(f'ROCurve. AuROC={auROC:.2f}')\n",
    "plt.plot(fpr, tpr, color='r', lw=2)\n",
    "plt.xlabel('False Positive Rate')\n",
    "plt.ylabel('True Positive Rate')\n",
    "plt.plot([0,1], [0,1], color='k', lw=2, linestyle='--')\n",
    "plt.show()"
   ]
  }
 ],
 "metadata": {
  "kernelspec": {
   "display_name": "Python 3 (ipykernel)",
   "language": "python",
   "name": "python3"
  },
  "language_info": {
   "codemirror_mode": {
    "name": "ipython",
    "version": 3
   },
   "file_extension": ".py",
   "mimetype": "text/x-python",
   "name": "python",
   "nbconvert_exporter": "python",
   "pygments_lexer": "ipython3",
   "version": "3.10.12"
  }
 },
 "nbformat": 4,
 "nbformat_minor": 5
}
