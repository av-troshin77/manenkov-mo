{
 "cells": [
  {
   "cell_type": "markdown",
   "id": "fcbdc1a5-0abe-4abc-8862-b544ef1852ea",
   "metadata": {},
   "source": [
    "# PCA Mirai"
   ]
  },
  {
   "cell_type": "markdown",
   "id": "fd948674-135a-4be9-a127-717811217610",
   "metadata": {},
   "source": [
    "## 1. Load the data"
   ]
  },
  {
   "cell_type": "code",
   "execution_count": 29,
   "id": "162e7d3e-8e7a-4ae6-9b13-f00e84cfaed9",
   "metadata": {},
   "outputs": [],
   "source": [
    "import pandas as pd\n",
    "import numpy as np\n",
    "from sklearn import preprocessing as pp\n",
    "from sklearn.metrics import roc_curve\n",
    "from sklearn.metrics import average_precision_score\n",
    "from sklearn.metrics import precision_recall_curve\n",
    "from sklearn.metrics import PrecisionRecallDisplay\n",
    "from sklearn.decomposition import PCA\n",
    "import matplotlib.pyplot as plt"
   ]
  },
  {
   "cell_type": "code",
   "execution_count": 2,
   "id": "c95c3206-1613-44b0-b1a2-60c6084112c3",
   "metadata": {
    "tags": []
   },
   "outputs": [],
   "source": [
    "data = pd.read_csv('./data/mirai/Mirai_dataset.csv', index_col=0, dtype=np.float32)\n",
    "labels = pd.read_csv('./data/mirai/Mirai_labels.csv', dtype=np.int32)"
   ]
  },
  {
   "cell_type": "code",
   "execution_count": 3,
   "id": "b6c4edc1-5a50-4264-b4f7-d4280c2e62ad",
   "metadata": {},
   "outputs": [
    {
     "name": "stdout",
     "output_type": "stream",
     "text": [
      "<class 'pandas.core.frame.DataFrame'>\n",
      "Float64Index: 764136 entries, 1.0 to 764136.0\n",
      "Columns: 115 entries, 1.0 to 0.0.54\n",
      "dtypes: float32(115)\n",
      "memory usage: 341.0 MB\n"
     ]
    }
   ],
   "source": [
    "data.info()"
   ]
  },
  {
   "cell_type": "code",
   "execution_count": 4,
   "id": "b2c1ab3d-6ac4-4e7a-9efe-d3bc554689eb",
   "metadata": {},
   "outputs": [
    {
     "name": "stdout",
     "output_type": "stream",
     "text": [
      "<class 'pandas.core.frame.DataFrame'>\n",
      "RangeIndex: 764136 entries, 0 to 764135\n",
      "Data columns (total 1 columns):\n",
      " #   Column  Non-Null Count   Dtype\n",
      "---  ------  --------------   -----\n",
      " 0   0       764136 non-null  int32\n",
      "dtypes: int32(1)\n",
      "memory usage: 2.9 MB\n"
     ]
    }
   ],
   "source": [
    "labels.info()"
   ]
  },
  {
   "cell_type": "code",
   "execution_count": 5,
   "id": "db9b4d48-4b0d-4642-8421-3eac98e55d15",
   "metadata": {},
   "outputs": [
    {
     "data": {
      "text/html": [
       "<div>\n",
       "<style scoped>\n",
       "    .dataframe tbody tr th:only-of-type {\n",
       "        vertical-align: middle;\n",
       "    }\n",
       "\n",
       "    .dataframe tbody tr th {\n",
       "        vertical-align: top;\n",
       "    }\n",
       "\n",
       "    .dataframe thead th {\n",
       "        text-align: right;\n",
       "    }\n",
       "</style>\n",
       "<table border=\"1\" class=\"dataframe\">\n",
       "  <thead>\n",
       "    <tr style=\"text-align: right;\">\n",
       "      <th></th>\n",
       "      <th>0</th>\n",
       "    </tr>\n",
       "  </thead>\n",
       "  <tbody>\n",
       "    <tr>\n",
       "      <th>0</th>\n",
       "      <td>0</td>\n",
       "    </tr>\n",
       "    <tr>\n",
       "      <th>1</th>\n",
       "      <td>0</td>\n",
       "    </tr>\n",
       "    <tr>\n",
       "      <th>2</th>\n",
       "      <td>0</td>\n",
       "    </tr>\n",
       "    <tr>\n",
       "      <th>3</th>\n",
       "      <td>0</td>\n",
       "    </tr>\n",
       "    <tr>\n",
       "      <th>4</th>\n",
       "      <td>0</td>\n",
       "    </tr>\n",
       "  </tbody>\n",
       "</table>\n",
       "</div>"
      ],
      "text/plain": [
       "   0\n",
       "0  0\n",
       "1  0\n",
       "2  0\n",
       "3  0\n",
       "4  0"
      ]
     },
     "execution_count": 5,
     "metadata": {},
     "output_type": "execute_result"
    }
   ],
   "source": [
    "labels.head(5)"
   ]
  },
  {
   "cell_type": "code",
   "execution_count": 6,
   "id": "f1b8e78b-d661-485e-844d-9b34d71241e0",
   "metadata": {},
   "outputs": [
    {
     "data": {
      "text/html": [
       "<div>\n",
       "<style scoped>\n",
       "    .dataframe tbody tr th:only-of-type {\n",
       "        vertical-align: middle;\n",
       "    }\n",
       "\n",
       "    .dataframe tbody tr th {\n",
       "        vertical-align: top;\n",
       "    }\n",
       "\n",
       "    .dataframe thead th {\n",
       "        text-align: right;\n",
       "    }\n",
       "</style>\n",
       "<table border=\"1\" class=\"dataframe\">\n",
       "  <thead>\n",
       "    <tr style=\"text-align: right;\">\n",
       "      <th></th>\n",
       "      <th>Labels</th>\n",
       "    </tr>\n",
       "  </thead>\n",
       "  <tbody>\n",
       "    <tr>\n",
       "      <th>0</th>\n",
       "      <td>0</td>\n",
       "    </tr>\n",
       "    <tr>\n",
       "      <th>1</th>\n",
       "      <td>0</td>\n",
       "    </tr>\n",
       "    <tr>\n",
       "      <th>2</th>\n",
       "      <td>0</td>\n",
       "    </tr>\n",
       "    <tr>\n",
       "      <th>3</th>\n",
       "      <td>0</td>\n",
       "    </tr>\n",
       "    <tr>\n",
       "      <th>4</th>\n",
       "      <td>0</td>\n",
       "    </tr>\n",
       "  </tbody>\n",
       "</table>\n",
       "</div>"
      ],
      "text/plain": [
       "   Labels\n",
       "0       0\n",
       "1       0\n",
       "2       0\n",
       "3       0\n",
       "4       0"
      ]
     },
     "execution_count": 6,
     "metadata": {},
     "output_type": "execute_result"
    }
   ],
   "source": [
    "labels = labels.rename(columns={'0':'Labels'})\n",
    "labels.head()"
   ]
  },
  {
   "cell_type": "code",
   "execution_count": 7,
   "id": "0429bc1d-561b-4020-bbca-380cd72d811f",
   "metadata": {},
   "outputs": [
    {
     "data": {
      "text/html": [
       "<div>\n",
       "<style scoped>\n",
       "    .dataframe tbody tr th:only-of-type {\n",
       "        vertical-align: middle;\n",
       "    }\n",
       "\n",
       "    .dataframe tbody tr th {\n",
       "        vertical-align: top;\n",
       "    }\n",
       "\n",
       "    .dataframe thead th {\n",
       "        text-align: right;\n",
       "    }\n",
       "</style>\n",
       "<table border=\"1\" class=\"dataframe\">\n",
       "  <thead>\n",
       "    <tr style=\"text-align: right;\">\n",
       "      <th></th>\n",
       "      <th>Labels</th>\n",
       "    </tr>\n",
       "  </thead>\n",
       "  <tbody>\n",
       "    <tr>\n",
       "      <th>764131</th>\n",
       "      <td>1</td>\n",
       "    </tr>\n",
       "    <tr>\n",
       "      <th>764132</th>\n",
       "      <td>1</td>\n",
       "    </tr>\n",
       "    <tr>\n",
       "      <th>764133</th>\n",
       "      <td>1</td>\n",
       "    </tr>\n",
       "    <tr>\n",
       "      <th>764134</th>\n",
       "      <td>1</td>\n",
       "    </tr>\n",
       "    <tr>\n",
       "      <th>764135</th>\n",
       "      <td>1</td>\n",
       "    </tr>\n",
       "  </tbody>\n",
       "</table>\n",
       "</div>"
      ],
      "text/plain": [
       "        Labels\n",
       "764131       1\n",
       "764132       1\n",
       "764133       1\n",
       "764134       1\n",
       "764135       1"
      ]
     },
     "execution_count": 7,
     "metadata": {},
     "output_type": "execute_result"
    }
   ],
   "source": [
    "labels.tail(5)"
   ]
  },
  {
   "cell_type": "code",
   "execution_count": 8,
   "id": "8f6380be-c4cc-4db5-99d7-dfc8a1bae396",
   "metadata": {},
   "outputs": [
    {
     "data": {
      "text/plain": [
       "Labels    1\n",
       "Name: 121620, dtype: int32"
      ]
     },
     "execution_count": 8,
     "metadata": {},
     "output_type": "execute_result"
    }
   ],
   "source": [
    "# get the first row with 1\n",
    "labels[labels['Labels']>0].iloc[0]"
   ]
  },
  {
   "cell_type": "code",
   "execution_count": 9,
   "id": "db63649d-1b0f-4d95-af2f-cb0d5354dfdc",
   "metadata": {},
   "outputs": [
    {
     "data": {
      "text/html": [
       "<div>\n",
       "<style scoped>\n",
       "    .dataframe tbody tr th:only-of-type {\n",
       "        vertical-align: middle;\n",
       "    }\n",
       "\n",
       "    .dataframe tbody tr th {\n",
       "        vertical-align: top;\n",
       "    }\n",
       "\n",
       "    .dataframe thead th {\n",
       "        text-align: right;\n",
       "    }\n",
       "</style>\n",
       "<table border=\"1\" class=\"dataframe\">\n",
       "  <thead>\n",
       "    <tr style=\"text-align: right;\">\n",
       "      <th></th>\n",
       "      <th>1.0</th>\n",
       "      <th>60.0</th>\n",
       "      <th>0.0</th>\n",
       "      <th>1.0.1</th>\n",
       "      <th>60.0.1</th>\n",
       "      <th>0.0.1</th>\n",
       "      <th>1.0.2</th>\n",
       "      <th>60.0.2</th>\n",
       "      <th>0.0.2</th>\n",
       "      <th>1.0.3</th>\n",
       "      <th>...</th>\n",
       "      <th>0.0.48</th>\n",
       "      <th>0.0.49</th>\n",
       "      <th>0.0.50</th>\n",
       "      <th>1.0.24</th>\n",
       "      <th>60.0.28</th>\n",
       "      <th>0.0.51</th>\n",
       "      <th>60.0.29</th>\n",
       "      <th>0.0.52</th>\n",
       "      <th>0.0.53</th>\n",
       "      <th>0.0.54</th>\n",
       "    </tr>\n",
       "  </thead>\n",
       "  <tbody>\n",
       "    <tr>\n",
       "      <th>count</th>\n",
       "      <td>764136.000000</td>\n",
       "      <td>764136.000000</td>\n",
       "      <td>764136.000000</td>\n",
       "      <td>764136.000000</td>\n",
       "      <td>764136.000000</td>\n",
       "      <td>764136.000000</td>\n",
       "      <td>764136.000000</td>\n",
       "      <td>764136.000000</td>\n",
       "      <td>764136.000000</td>\n",
       "      <td>764136.000000</td>\n",
       "      <td>...</td>\n",
       "      <td>7.641360e+05</td>\n",
       "      <td>764136.000000</td>\n",
       "      <td>764136.000000</td>\n",
       "      <td>764136.000000</td>\n",
       "      <td>764136.000000</td>\n",
       "      <td>764136.000000</td>\n",
       "      <td>764136.000000</td>\n",
       "      <td>7.641360e+05</td>\n",
       "      <td>764136.000000</td>\n",
       "      <td>764136.000000</td>\n",
       "    </tr>\n",
       "    <tr>\n",
       "      <th>mean</th>\n",
       "      <td>62.350761</td>\n",
       "      <td>66.255043</td>\n",
       "      <td>70.099174</td>\n",
       "      <td>89.739113</td>\n",
       "      <td>66.271713</td>\n",
       "      <td>94.559898</td>\n",
       "      <td>240.175995</td>\n",
       "      <td>66.290672</td>\n",
       "      <td>143.849915</td>\n",
       "      <td>2317.251953</td>\n",
       "      <td>...</td>\n",
       "      <td>4.556563e+00</td>\n",
       "      <td>-0.000486</td>\n",
       "      <td>-0.000098</td>\n",
       "      <td>20698.412109</td>\n",
       "      <td>66.377167</td>\n",
       "      <td>0.237334</td>\n",
       "      <td>68.730598</td>\n",
       "      <td>5.130032e+00</td>\n",
       "      <td>0.004659</td>\n",
       "      <td>0.000091</td>\n",
       "    </tr>\n",
       "    <tr>\n",
       "      <th>std</th>\n",
       "      <td>44.615818</td>\n",
       "      <td>17.588593</td>\n",
       "      <td>1131.776489</td>\n",
       "      <td>59.838459</td>\n",
       "      <td>16.923904</td>\n",
       "      <td>1343.725586</td>\n",
       "      <td>141.576248</td>\n",
       "      <td>15.456532</td>\n",
       "      <td>1625.711792</td>\n",
       "      <td>1352.537231</td>\n",
       "      <td>...</td>\n",
       "      <td>7.694627e+01</td>\n",
       "      <td>0.649533</td>\n",
       "      <td>0.014717</td>\n",
       "      <td>13575.003906</td>\n",
       "      <td>19.792562</td>\n",
       "      <td>2.114585</td>\n",
       "      <td>23.244699</td>\n",
       "      <td>8.699055e+01</td>\n",
       "      <td>0.634564</td>\n",
       "      <td>0.009265</td>\n",
       "    </tr>\n",
       "    <tr>\n",
       "      <th>min</th>\n",
       "      <td>1.000000</td>\n",
       "      <td>42.000004</td>\n",
       "      <td>0.000000</td>\n",
       "      <td>1.000000</td>\n",
       "      <td>42.002373</td>\n",
       "      <td>0.000000</td>\n",
       "      <td>1.000000</td>\n",
       "      <td>44.291508</td>\n",
       "      <td>0.000000</td>\n",
       "      <td>1.000000</td>\n",
       "      <td>...</td>\n",
       "      <td>0.000000e+00</td>\n",
       "      <td>-65.889397</td>\n",
       "      <td>-1.057362</td>\n",
       "      <td>1.000000</td>\n",
       "      <td>42.000000</td>\n",
       "      <td>0.000000</td>\n",
       "      <td>42.000000</td>\n",
       "      <td>0.000000e+00</td>\n",
       "      <td>-73.598526</td>\n",
       "      <td>-0.749841</td>\n",
       "    </tr>\n",
       "    <tr>\n",
       "      <th>25%</th>\n",
       "      <td>7.951381</td>\n",
       "      <td>60.024849</td>\n",
       "      <td>0.236595</td>\n",
       "      <td>10.293426</td>\n",
       "      <td>60.051337</td>\n",
       "      <td>0.592575</td>\n",
       "      <td>22.328444</td>\n",
       "      <td>60.097115</td>\n",
       "      <td>1.363975</td>\n",
       "      <td>113.456554</td>\n",
       "      <td>...</td>\n",
       "      <td>1.818989e-12</td>\n",
       "      <td>0.000000</td>\n",
       "      <td>0.000000</td>\n",
       "      <td>158.586109</td>\n",
       "      <td>60.000000</td>\n",
       "      <td>0.000002</td>\n",
       "      <td>60.000000</td>\n",
       "      <td>3.637979e-12</td>\n",
       "      <td>0.000000</td>\n",
       "      <td>0.000000</td>\n",
       "    </tr>\n",
       "    <tr>\n",
       "      <th>50%</th>\n",
       "      <td>68.425091</td>\n",
       "      <td>60.078346</td>\n",
       "      <td>0.783348</td>\n",
       "      <td>100.562263</td>\n",
       "      <td>60.110451</td>\n",
       "      <td>1.338655</td>\n",
       "      <td>298.392960</td>\n",
       "      <td>60.135586</td>\n",
       "      <td>1.999527</td>\n",
       "      <td>3127.492188</td>\n",
       "      <td>...</td>\n",
       "      <td>6.366463e-12</td>\n",
       "      <td>0.000000</td>\n",
       "      <td>0.000000</td>\n",
       "      <td>30562.675781</td>\n",
       "      <td>60.000000</td>\n",
       "      <td>0.000004</td>\n",
       "      <td>60.000000</td>\n",
       "      <td>1.682565e-11</td>\n",
       "      <td>0.000000</td>\n",
       "      <td>0.000000</td>\n",
       "    </tr>\n",
       "    <tr>\n",
       "      <th>75%</th>\n",
       "      <td>103.520470</td>\n",
       "      <td>60.745066</td>\n",
       "      <td>2.929853</td>\n",
       "      <td>142.195202</td>\n",
       "      <td>60.586356</td>\n",
       "      <td>3.576463</td>\n",
       "      <td>344.376740</td>\n",
       "      <td>61.130436</td>\n",
       "      <td>3.531308</td>\n",
       "      <td>3177.945557</td>\n",
       "      <td>...</td>\n",
       "      <td>1.409717e-11</td>\n",
       "      <td>0.000000</td>\n",
       "      <td>0.000000</td>\n",
       "      <td>30737.931641</td>\n",
       "      <td>60.000000</td>\n",
       "      <td>0.000007</td>\n",
       "      <td>72.000000</td>\n",
       "      <td>4.501999e-11</td>\n",
       "      <td>0.000000</td>\n",
       "      <td>0.000000</td>\n",
       "    </tr>\n",
       "    <tr>\n",
       "      <th>max</th>\n",
       "      <td>144.071655</td>\n",
       "      <td>624.117432</td>\n",
       "      <td>442869.250000</td>\n",
       "      <td>195.788055</td>\n",
       "      <td>590.000000</td>\n",
       "      <td>400508.593750</td>\n",
       "      <td>425.179962</td>\n",
       "      <td>590.000000</td>\n",
       "      <td>265238.687500</td>\n",
       "      <td>3282.664307</td>\n",
       "      <td>...</td>\n",
       "      <td>1.455177e+04</td>\n",
       "      <td>92.778946</td>\n",
       "      <td>0.800243</td>\n",
       "      <td>30875.636719</td>\n",
       "      <td>1468.000000</td>\n",
       "      <td>130.141937</td>\n",
       "      <td>1468.000000</td>\n",
       "      <td>1.693692e+04</td>\n",
       "      <td>102.044060</td>\n",
       "      <td>0.875271</td>\n",
       "    </tr>\n",
       "  </tbody>\n",
       "</table>\n",
       "<p>8 rows × 115 columns</p>\n",
       "</div>"
      ],
      "text/plain": [
       "                 1.0           60.0            0.0          1.0.1  \\\n",
       "count  764136.000000  764136.000000  764136.000000  764136.000000   \n",
       "mean       62.350761      66.255043      70.099174      89.739113   \n",
       "std        44.615818      17.588593    1131.776489      59.838459   \n",
       "min         1.000000      42.000004       0.000000       1.000000   \n",
       "25%         7.951381      60.024849       0.236595      10.293426   \n",
       "50%        68.425091      60.078346       0.783348     100.562263   \n",
       "75%       103.520470      60.745066       2.929853     142.195202   \n",
       "max       144.071655     624.117432  442869.250000     195.788055   \n",
       "\n",
       "              60.0.1          0.0.1          1.0.2         60.0.2  \\\n",
       "count  764136.000000  764136.000000  764136.000000  764136.000000   \n",
       "mean       66.271713      94.559898     240.175995      66.290672   \n",
       "std        16.923904    1343.725586     141.576248      15.456532   \n",
       "min        42.002373       0.000000       1.000000      44.291508   \n",
       "25%        60.051337       0.592575      22.328444      60.097115   \n",
       "50%        60.110451       1.338655     298.392960      60.135586   \n",
       "75%        60.586356       3.576463     344.376740      61.130436   \n",
       "max       590.000000  400508.593750     425.179962     590.000000   \n",
       "\n",
       "               0.0.2          1.0.3  ...        0.0.48         0.0.49  \\\n",
       "count  764136.000000  764136.000000  ...  7.641360e+05  764136.000000   \n",
       "mean      143.849915    2317.251953  ...  4.556563e+00      -0.000486   \n",
       "std      1625.711792    1352.537231  ...  7.694627e+01       0.649533   \n",
       "min         0.000000       1.000000  ...  0.000000e+00     -65.889397   \n",
       "25%         1.363975     113.456554  ...  1.818989e-12       0.000000   \n",
       "50%         1.999527    3127.492188  ...  6.366463e-12       0.000000   \n",
       "75%         3.531308    3177.945557  ...  1.409717e-11       0.000000   \n",
       "max    265238.687500    3282.664307  ...  1.455177e+04      92.778946   \n",
       "\n",
       "              0.0.50         1.0.24        60.0.28         0.0.51  \\\n",
       "count  764136.000000  764136.000000  764136.000000  764136.000000   \n",
       "mean       -0.000098   20698.412109      66.377167       0.237334   \n",
       "std         0.014717   13575.003906      19.792562       2.114585   \n",
       "min        -1.057362       1.000000      42.000000       0.000000   \n",
       "25%         0.000000     158.586109      60.000000       0.000002   \n",
       "50%         0.000000   30562.675781      60.000000       0.000004   \n",
       "75%         0.000000   30737.931641      60.000000       0.000007   \n",
       "max         0.800243   30875.636719    1468.000000     130.141937   \n",
       "\n",
       "             60.0.29        0.0.52         0.0.53         0.0.54  \n",
       "count  764136.000000  7.641360e+05  764136.000000  764136.000000  \n",
       "mean       68.730598  5.130032e+00       0.004659       0.000091  \n",
       "std        23.244699  8.699055e+01       0.634564       0.009265  \n",
       "min        42.000000  0.000000e+00     -73.598526      -0.749841  \n",
       "25%        60.000000  3.637979e-12       0.000000       0.000000  \n",
       "50%        60.000000  1.682565e-11       0.000000       0.000000  \n",
       "75%        72.000000  4.501999e-11       0.000000       0.000000  \n",
       "max      1468.000000  1.693692e+04     102.044060       0.875271  \n",
       "\n",
       "[8 rows x 115 columns]"
      ]
     },
     "execution_count": 9,
     "metadata": {},
     "output_type": "execute_result"
    }
   ],
   "source": [
    "data.describe()"
   ]
  },
  {
   "cell_type": "code",
   "execution_count": 10,
   "id": "a875670f-9283-4387-b379-ae7c53a5fa27",
   "metadata": {},
   "outputs": [],
   "source": [
    "# scale the data\n",
    "scaler = pp.StandardScaler()\n",
    "data = scaler.fit_transform(data)\n",
    "data = pd.DataFrame(data)"
   ]
  },
  {
   "cell_type": "code",
   "execution_count": 11,
   "id": "b3e6bcd8-278e-48ed-a096-79d7085a5898",
   "metadata": {},
   "outputs": [
    {
     "data": {
      "text/html": [
       "<div>\n",
       "<style scoped>\n",
       "    .dataframe tbody tr th:only-of-type {\n",
       "        vertical-align: middle;\n",
       "    }\n",
       "\n",
       "    .dataframe tbody tr th {\n",
       "        vertical-align: top;\n",
       "    }\n",
       "\n",
       "    .dataframe thead th {\n",
       "        text-align: right;\n",
       "    }\n",
       "</style>\n",
       "<table border=\"1\" class=\"dataframe\">\n",
       "  <thead>\n",
       "    <tr style=\"text-align: right;\">\n",
       "      <th></th>\n",
       "      <th>0</th>\n",
       "      <th>1</th>\n",
       "      <th>2</th>\n",
       "      <th>3</th>\n",
       "      <th>4</th>\n",
       "      <th>5</th>\n",
       "      <th>6</th>\n",
       "      <th>7</th>\n",
       "      <th>8</th>\n",
       "      <th>9</th>\n",
       "      <th>...</th>\n",
       "      <th>105</th>\n",
       "      <th>106</th>\n",
       "      <th>107</th>\n",
       "      <th>108</th>\n",
       "      <th>109</th>\n",
       "      <th>110</th>\n",
       "      <th>111</th>\n",
       "      <th>112</th>\n",
       "      <th>113</th>\n",
       "      <th>114</th>\n",
       "    </tr>\n",
       "  </thead>\n",
       "  <tbody>\n",
       "    <tr>\n",
       "      <th>count</th>\n",
       "      <td>7.641360e+05</td>\n",
       "      <td>7.641360e+05</td>\n",
       "      <td>7.641360e+05</td>\n",
       "      <td>7.641360e+05</td>\n",
       "      <td>7.641360e+05</td>\n",
       "      <td>7.641360e+05</td>\n",
       "      <td>7.641360e+05</td>\n",
       "      <td>7.641360e+05</td>\n",
       "      <td>7.641360e+05</td>\n",
       "      <td>7.641360e+05</td>\n",
       "      <td>...</td>\n",
       "      <td>7.641360e+05</td>\n",
       "      <td>7.641360e+05</td>\n",
       "      <td>7.641360e+05</td>\n",
       "      <td>7.641360e+05</td>\n",
       "      <td>7.641360e+05</td>\n",
       "      <td>7.641360e+05</td>\n",
       "      <td>7.641360e+05</td>\n",
       "      <td>7.641360e+05</td>\n",
       "      <td>7.641360e+05</td>\n",
       "      <td>7.641360e+05</td>\n",
       "    </tr>\n",
       "    <tr>\n",
       "      <th>mean</th>\n",
       "      <td>-5.343619e-08</td>\n",
       "      <td>-5.391544e-09</td>\n",
       "      <td>-4.293267e-09</td>\n",
       "      <td>-1.062334e-08</td>\n",
       "      <td>-2.635866e-09</td>\n",
       "      <td>-2.206539e-09</td>\n",
       "      <td>-2.364292e-08</td>\n",
       "      <td>-2.715741e-09</td>\n",
       "      <td>3.516984e-09</td>\n",
       "      <td>2.667816e-08</td>\n",
       "      <td>...</td>\n",
       "      <td>2.376273e-09</td>\n",
       "      <td>1.126983e-09</td>\n",
       "      <td>1.525108e-09</td>\n",
       "      <td>2.603916e-08</td>\n",
       "      <td>-2.787628e-08</td>\n",
       "      <td>-6.130386e-09</td>\n",
       "      <td>-8.786220e-10</td>\n",
       "      <td>-1.543579e-08</td>\n",
       "      <td>1.055844e-09</td>\n",
       "      <td>5.191857e-10</td>\n",
       "    </tr>\n",
       "    <tr>\n",
       "      <th>std</th>\n",
       "      <td>1.000001e+00</td>\n",
       "      <td>1.000001e+00</td>\n",
       "      <td>1.000001e+00</td>\n",
       "      <td>1.000001e+00</td>\n",
       "      <td>1.000001e+00</td>\n",
       "      <td>1.000001e+00</td>\n",
       "      <td>1.000001e+00</td>\n",
       "      <td>1.000001e+00</td>\n",
       "      <td>1.000001e+00</td>\n",
       "      <td>1.000001e+00</td>\n",
       "      <td>...</td>\n",
       "      <td>1.000001e+00</td>\n",
       "      <td>1.000001e+00</td>\n",
       "      <td>1.000001e+00</td>\n",
       "      <td>1.000001e+00</td>\n",
       "      <td>1.000001e+00</td>\n",
       "      <td>1.000001e+00</td>\n",
       "      <td>1.000001e+00</td>\n",
       "      <td>1.000001e+00</td>\n",
       "      <td>1.000001e+00</td>\n",
       "      <td>1.000001e+00</td>\n",
       "    </tr>\n",
       "    <tr>\n",
       "      <th>min</th>\n",
       "      <td>-1.375091e+00</td>\n",
       "      <td>-1.379021e+00</td>\n",
       "      <td>-6.193733e-02</td>\n",
       "      <td>-1.482979e+00</td>\n",
       "      <td>-1.434029e+00</td>\n",
       "      <td>-7.037149e-02</td>\n",
       "      <td>-1.689380e+00</td>\n",
       "      <td>-1.423293e+00</td>\n",
       "      <td>-8.848432e-02</td>\n",
       "      <td>-1.712525e+00</td>\n",
       "      <td>...</td>\n",
       "      <td>-5.921752e-02</td>\n",
       "      <td>-1.014405e+02</td>\n",
       "      <td>-7.183786e+01</td>\n",
       "      <td>-1.524672e+00</td>\n",
       "      <td>-1.231634e+00</td>\n",
       "      <td>-1.122367e-01</td>\n",
       "      <td>-1.149966e+00</td>\n",
       "      <td>-5.897234e-02</td>\n",
       "      <td>-1.159903e+02</td>\n",
       "      <td>-8.094161e+01</td>\n",
       "    </tr>\n",
       "    <tr>\n",
       "      <th>25%</th>\n",
       "      <td>-1.219285e+00</td>\n",
       "      <td>-3.542172e-01</td>\n",
       "      <td>-6.172828e-02</td>\n",
       "      <td>-1.327670e+00</td>\n",
       "      <td>-3.675503e-01</td>\n",
       "      <td>-6.993049e-02</td>\n",
       "      <td>-1.538730e+00</td>\n",
       "      <td>-4.007081e-01</td>\n",
       "      <td>-8.764531e-02</td>\n",
       "      <td>-1.629380e+00</td>\n",
       "      <td>...</td>\n",
       "      <td>-5.921752e-02</td>\n",
       "      <td>7.488515e-04</td>\n",
       "      <td>6.670410e-03</td>\n",
       "      <td>-1.513063e+00</td>\n",
       "      <td>-3.222005e-01</td>\n",
       "      <td>-1.122358e-01</td>\n",
       "      <td>-3.755956e-01</td>\n",
       "      <td>-5.897234e-02</td>\n",
       "      <td>-7.342549e-03</td>\n",
       "      <td>-9.805739e-03</td>\n",
       "    </tr>\n",
       "    <tr>\n",
       "      <th>50%</th>\n",
       "      <td>1.361475e-01</td>\n",
       "      <td>-3.511756e-01</td>\n",
       "      <td>-6.124519e-02</td>\n",
       "      <td>1.808729e-01</td>\n",
       "      <td>-3.640574e-01</td>\n",
       "      <td>-6.937526e-02</td>\n",
       "      <td>4.112059e-01</td>\n",
       "      <td>-3.982191e-01</td>\n",
       "      <td>-8.725437e-02</td>\n",
       "      <td>5.990526e-01</td>\n",
       "      <td>...</td>\n",
       "      <td>-5.921752e-02</td>\n",
       "      <td>7.488515e-04</td>\n",
       "      <td>6.670410e-03</td>\n",
       "      <td>7.266496e-01</td>\n",
       "      <td>-3.222005e-01</td>\n",
       "      <td>-1.122347e-01</td>\n",
       "      <td>-3.755956e-01</td>\n",
       "      <td>-5.897234e-02</td>\n",
       "      <td>-7.342549e-03</td>\n",
       "      <td>-9.805739e-03</td>\n",
       "    </tr>\n",
       "    <tr>\n",
       "      <th>75%</th>\n",
       "      <td>9.227610e-01</td>\n",
       "      <td>-3.132693e-01</td>\n",
       "      <td>-5.934861e-02</td>\n",
       "      <td>8.766288e-01</td>\n",
       "      <td>-3.359371e-01</td>\n",
       "      <td>-6.770988e-02</td>\n",
       "      <td>7.360048e-01</td>\n",
       "      <td>-3.338547e-01</td>\n",
       "      <td>-8.631215e-02</td>\n",
       "      <td>6.363553e-01</td>\n",
       "      <td>...</td>\n",
       "      <td>-5.921752e-02</td>\n",
       "      <td>7.488515e-04</td>\n",
       "      <td>6.670410e-03</td>\n",
       "      <td>7.395598e-01</td>\n",
       "      <td>-3.222005e-01</td>\n",
       "      <td>-1.122335e-01</td>\n",
       "      <td>1.406515e-01</td>\n",
       "      <td>-5.897234e-02</td>\n",
       "      <td>-7.342549e-03</td>\n",
       "      <td>-9.805739e-03</td>\n",
       "    </tr>\n",
       "    <tr>\n",
       "      <th>max</th>\n",
       "      <td>1.831659e+00</td>\n",
       "      <td>3.171731e+01</td>\n",
       "      <td>3.912428e+02</td>\n",
       "      <td>1.772255e+00</td>\n",
       "      <td>3.094608e+01</td>\n",
       "      <td>2.979881e+02</td>\n",
       "      <td>1.306745e+00</td>\n",
       "      <td>3.388274e+01</td>\n",
       "      <td>1.630640e+02</td>\n",
       "      <td>7.137793e-01</td>\n",
       "      <td>...</td>\n",
       "      <td>1.890569e+02</td>\n",
       "      <td>1.428403e+02</td>\n",
       "      <td>5.438078e+01</td>\n",
       "      <td>7.497038e-01</td>\n",
       "      <td>7.081567e+01</td>\n",
       "      <td>6.143271e+01</td>\n",
       "      <td>6.019740e+01</td>\n",
       "      <td>1.946396e+02</td>\n",
       "      <td>1.608025e+02</td>\n",
       "      <td>9.445989e+01</td>\n",
       "    </tr>\n",
       "  </tbody>\n",
       "</table>\n",
       "<p>8 rows × 115 columns</p>\n",
       "</div>"
      ],
      "text/plain": [
       "                0             1             2             3             4    \\\n",
       "count  7.641360e+05  7.641360e+05  7.641360e+05  7.641360e+05  7.641360e+05   \n",
       "mean  -5.343619e-08 -5.391544e-09 -4.293267e-09 -1.062334e-08 -2.635866e-09   \n",
       "std    1.000001e+00  1.000001e+00  1.000001e+00  1.000001e+00  1.000001e+00   \n",
       "min   -1.375091e+00 -1.379021e+00 -6.193733e-02 -1.482979e+00 -1.434029e+00   \n",
       "25%   -1.219285e+00 -3.542172e-01 -6.172828e-02 -1.327670e+00 -3.675503e-01   \n",
       "50%    1.361475e-01 -3.511756e-01 -6.124519e-02  1.808729e-01 -3.640574e-01   \n",
       "75%    9.227610e-01 -3.132693e-01 -5.934861e-02  8.766288e-01 -3.359371e-01   \n",
       "max    1.831659e+00  3.171731e+01  3.912428e+02  1.772255e+00  3.094608e+01   \n",
       "\n",
       "                5             6             7             8             9    \\\n",
       "count  7.641360e+05  7.641360e+05  7.641360e+05  7.641360e+05  7.641360e+05   \n",
       "mean  -2.206539e-09 -2.364292e-08 -2.715741e-09  3.516984e-09  2.667816e-08   \n",
       "std    1.000001e+00  1.000001e+00  1.000001e+00  1.000001e+00  1.000001e+00   \n",
       "min   -7.037149e-02 -1.689380e+00 -1.423293e+00 -8.848432e-02 -1.712525e+00   \n",
       "25%   -6.993049e-02 -1.538730e+00 -4.007081e-01 -8.764531e-02 -1.629380e+00   \n",
       "50%   -6.937526e-02  4.112059e-01 -3.982191e-01 -8.725437e-02  5.990526e-01   \n",
       "75%   -6.770988e-02  7.360048e-01 -3.338547e-01 -8.631215e-02  6.363553e-01   \n",
       "max    2.979881e+02  1.306745e+00  3.388274e+01  1.630640e+02  7.137793e-01   \n",
       "\n",
       "       ...           105           106           107           108  \\\n",
       "count  ...  7.641360e+05  7.641360e+05  7.641360e+05  7.641360e+05   \n",
       "mean   ...  2.376273e-09  1.126983e-09  1.525108e-09  2.603916e-08   \n",
       "std    ...  1.000001e+00  1.000001e+00  1.000001e+00  1.000001e+00   \n",
       "min    ... -5.921752e-02 -1.014405e+02 -7.183786e+01 -1.524672e+00   \n",
       "25%    ... -5.921752e-02  7.488515e-04  6.670410e-03 -1.513063e+00   \n",
       "50%    ... -5.921752e-02  7.488515e-04  6.670410e-03  7.266496e-01   \n",
       "75%    ... -5.921752e-02  7.488515e-04  6.670410e-03  7.395598e-01   \n",
       "max    ...  1.890569e+02  1.428403e+02  5.438078e+01  7.497038e-01   \n",
       "\n",
       "                109           110           111           112           113  \\\n",
       "count  7.641360e+05  7.641360e+05  7.641360e+05  7.641360e+05  7.641360e+05   \n",
       "mean  -2.787628e-08 -6.130386e-09 -8.786220e-10 -1.543579e-08  1.055844e-09   \n",
       "std    1.000001e+00  1.000001e+00  1.000001e+00  1.000001e+00  1.000001e+00   \n",
       "min   -1.231634e+00 -1.122367e-01 -1.149966e+00 -5.897234e-02 -1.159903e+02   \n",
       "25%   -3.222005e-01 -1.122358e-01 -3.755956e-01 -5.897234e-02 -7.342549e-03   \n",
       "50%   -3.222005e-01 -1.122347e-01 -3.755956e-01 -5.897234e-02 -7.342549e-03   \n",
       "75%   -3.222005e-01 -1.122335e-01  1.406515e-01 -5.897234e-02 -7.342549e-03   \n",
       "max    7.081567e+01  6.143271e+01  6.019740e+01  1.946396e+02  1.608025e+02   \n",
       "\n",
       "                114  \n",
       "count  7.641360e+05  \n",
       "mean   5.191857e-10  \n",
       "std    1.000001e+00  \n",
       "min   -8.094161e+01  \n",
       "25%   -9.805739e-03  \n",
       "50%   -9.805739e-03  \n",
       "75%   -9.805739e-03  \n",
       "max    9.445989e+01  \n",
       "\n",
       "[8 rows x 115 columns]"
      ]
     },
     "execution_count": 11,
     "metadata": {},
     "output_type": "execute_result"
    }
   ],
   "source": [
    "data.describe()"
   ]
  },
  {
   "cell_type": "markdown",
   "id": "ff8d0d1b-4f34-4edc-98e6-3894c6007657",
   "metadata": {},
   "source": [
    "## 2. Create Train-Test Data"
   ]
  },
  {
   "cell_type": "code",
   "execution_count": 12,
   "id": "daa9b86b-5a91-4142-9be8-442acfd2b2b4",
   "metadata": {},
   "outputs": [
    {
     "data": {
      "text/plain": [
       "(500000, 115)"
      ]
     },
     "execution_count": 12,
     "metadata": {},
     "output_type": "execute_result"
    }
   ],
   "source": [
    "# create train np array\n",
    "n_index = 500000\n",
    "train =data.values[:n_index]\n",
    "train.shape"
   ]
  },
  {
   "cell_type": "markdown",
   "id": "1af41ad4-a20a-4010-a52a-cb21d0e4ada2",
   "metadata": {},
   "source": [
    "## 3. Apply PCA"
   ]
  },
  {
   "cell_type": "code",
   "execution_count": 13,
   "id": "a186abea-f2b8-4916-a8f1-ff589cc7e079",
   "metadata": {},
   "outputs": [],
   "source": [
    "# create and fit pca\n",
    "pca = PCA(n_components=25)\n",
    "pca.fit(train)\n",
    "train_pca = pca.transform(train)"
   ]
  },
  {
   "cell_type": "code",
   "execution_count": 14,
   "id": "646b640d-8729-4880-8b2b-f3089663a47e",
   "metadata": {},
   "outputs": [],
   "source": [
    "inverse_pca = pca.inverse_transform(train_pca)"
   ]
  },
  {
   "cell_type": "code",
   "execution_count": 15,
   "id": "cf5f8d03-958f-4a8e-a987-41d19485a111",
   "metadata": {},
   "outputs": [],
   "source": [
    "def reconstr_error(original, reconstr):\n",
    "    errors = np.sqrt(np.sum((original - reconstr)**2, axis=1))\n",
    "    return errors"
   ]
  },
  {
   "cell_type": "code",
   "execution_count": 16,
   "id": "88acf514-dfb6-4cde-9eae-74dd0ffadafc",
   "metadata": {},
   "outputs": [],
   "source": [
    "# errors = np.sqrt(np.sum((train - inverse_pca)**2, axis=1))\n",
    "errors = reconstr_error(train, inverse_pca)"
   ]
  },
  {
   "cell_type": "code",
   "execution_count": 17,
   "id": "eee42810-a58f-40ca-aba6-4a5e1065dce7",
   "metadata": {},
   "outputs": [
    {
     "data": {
      "text/html": [
       "<div>\n",
       "<style scoped>\n",
       "    .dataframe tbody tr th:only-of-type {\n",
       "        vertical-align: middle;\n",
       "    }\n",
       "\n",
       "    .dataframe tbody tr th {\n",
       "        vertical-align: top;\n",
       "    }\n",
       "\n",
       "    .dataframe thead th {\n",
       "        text-align: right;\n",
       "    }\n",
       "</style>\n",
       "<table border=\"1\" class=\"dataframe\">\n",
       "  <thead>\n",
       "    <tr style=\"text-align: right;\">\n",
       "      <th></th>\n",
       "      <th>0</th>\n",
       "    </tr>\n",
       "  </thead>\n",
       "  <tbody>\n",
       "    <tr>\n",
       "      <th>0</th>\n",
       "      <td>1.115032</td>\n",
       "    </tr>\n",
       "    <tr>\n",
       "      <th>1</th>\n",
       "      <td>1.210041</td>\n",
       "    </tr>\n",
       "    <tr>\n",
       "      <th>2</th>\n",
       "      <td>29.111221</td>\n",
       "    </tr>\n",
       "    <tr>\n",
       "      <th>3</th>\n",
       "      <td>1.120686</td>\n",
       "    </tr>\n",
       "    <tr>\n",
       "      <th>4</th>\n",
       "      <td>0.902660</td>\n",
       "    </tr>\n",
       "  </tbody>\n",
       "</table>\n",
       "</div>"
      ],
      "text/plain": [
       "           0\n",
       "0   1.115032\n",
       "1   1.210041\n",
       "2  29.111221\n",
       "3   1.120686\n",
       "4   0.902660"
      ]
     },
     "execution_count": 17,
     "metadata": {},
     "output_type": "execute_result"
    }
   ],
   "source": [
    "df_errors = pd.DataFrame(errors)\n",
    "df_errors.head()"
   ]
  },
  {
   "cell_type": "code",
   "execution_count": 18,
   "id": "c733dfec-bb42-4cf3-8c81-e9261d8c36ee",
   "metadata": {},
   "outputs": [
    {
     "name": "stdout",
     "output_type": "stream",
     "text": [
      "1.3110042\n"
     ]
    }
   ],
   "source": [
    "mean_error = errors.mean()\n",
    "print(mean_error)"
   ]
  },
  {
   "cell_type": "code",
   "execution_count": 19,
   "id": "cdb6c9a2-6a72-4245-8a2d-698b379b9fa6",
   "metadata": {},
   "outputs": [
    {
     "name": "stdout",
     "output_type": "stream",
     "text": [
      "Average precision score:  0.598934213456859\n"
     ]
    }
   ],
   "source": [
    "# average precision score for train results\n",
    "y_true = labels[:n_index]\n",
    "aps = average_precision_score(y_true, errors)\n",
    "print('Average precision score: ', aps)"
   ]
  },
  {
   "cell_type": "markdown",
   "id": "19247d1a-aa65-494a-a106-a6812bea60ea",
   "metadata": {},
   "source": [
    "## 4. Test PCA"
   ]
  },
  {
   "cell_type": "code",
   "execution_count": 20,
   "id": "d2fd1547-78eb-45f2-96a2-ba4f81416d80",
   "metadata": {},
   "outputs": [
    {
     "data": {
      "text/plain": [
       "(264136, 115)"
      ]
     },
     "execution_count": 20,
     "metadata": {},
     "output_type": "execute_result"
    }
   ],
   "source": [
    "# apply pca to test data\n",
    "test = data.values[n_index:]\n",
    "test.shape"
   ]
  },
  {
   "cell_type": "code",
   "execution_count": 21,
   "id": "f35f3324-998a-43aa-9849-39b4c074505e",
   "metadata": {},
   "outputs": [],
   "source": [
    "test_pca = pca.transform(test)"
   ]
  },
  {
   "cell_type": "code",
   "execution_count": 22,
   "id": "ad770eab-b413-4369-b335-6814369305f4",
   "metadata": {},
   "outputs": [],
   "source": [
    "inverse_test = pca.inverse_transform(test_pca)"
   ]
  },
  {
   "cell_type": "code",
   "execution_count": 23,
   "id": "1f3cd39f-7c25-4d3f-b759-4d41e20a4d0e",
   "metadata": {},
   "outputs": [
    {
     "name": "stdout",
     "output_type": "stream",
     "text": [
      "Average errors:  0.74346614\n"
     ]
    }
   ],
   "source": [
    "# test_errors = np.sqrt(np.sum((test - inverse_test)**2, axis=1))\n",
    "test_errors = reconstr_error(test, inverse_test)\n",
    "print('Average errors: ', test_errors.mean())"
   ]
  },
  {
   "cell_type": "code",
   "execution_count": 24,
   "id": "bbfee007-269d-4b17-a073-fd7201fe394a",
   "metadata": {},
   "outputs": [
    {
     "name": "stdout",
     "output_type": "stream",
     "text": [
      "Average precision score:  1.0000000000000002\n"
     ]
    }
   ],
   "source": [
    "# average precision score for test results\n",
    "y_true = labels[n_index:]\n",
    "aps = average_precision_score(y_true, test_errors)\n",
    "print('Average precision score: ', aps)"
   ]
  },
  {
   "cell_type": "markdown",
   "id": "f2c1dcf4-f9a6-4cb8-ba07-3cc2117bd84b",
   "metadata": {},
   "source": [
    "## 5.Precision-Recall Curve"
   ]
  },
  {
   "cell_type": "code",
   "execution_count": 25,
   "id": "27c91561-3778-4121-9a20-532ae161ddca",
   "metadata": {},
   "outputs": [],
   "source": [
    "# precision-recall curve for test results\n",
    "precision, recall, thresholds = precision_recall_curve(y_true, test_errors)"
   ]
  },
  {
   "cell_type": "code",
   "execution_count": 33,
   "id": "2aae5cc6-ec75-4642-8417-71ec3b30ca8e",
   "metadata": {},
   "outputs": [
    {
     "data": {
      "image/png": "[encoded data removed]",
      "text/plain": [
       "<Figure size 640x480 with 1 Axes>"
      ]
     },
     "metadata": {},
     "output_type": "display_data"
    }
   ],
   "source": [
    "plt.title('Precision-Recall Curve. Average Precision={0:0.2f}'.format(aps))\n",
    "plt.xlabel('Recall')\n",
    "plt.ylabel('Precision')\n",
    "#plt.ylim([0, 1.1])\n",
    "#plt.xlim([0, 1.0])\n",
    "plt.plot(recall, precision)\n",
    "plt.show()"
   ]
  },
  {
   "cell_type": "code",
   "execution_count": 27,
   "id": "2de2e908-e06f-45f2-9a53-bf94d162315d",
   "metadata": {},
   "outputs": [
    {
     "data": {
      "image/png": "[encoded data removed]",
      "text/plain": [
       "<Figure size 640x480 with 1 Axes>"
      ]
     },
     "metadata": {},
     "output_type": "display_data"
    }
   ],
   "source": [
    "display = PrecisionRecallDisplay.from_predictions(y_true, test_errors)\n",
    "_ = display.ax_.set_title(\"Precision-Recall Curve\")"
   ]
  },
  {
   "cell_type": "markdown",
   "id": "af40da0e-3bd6-48a4-9d2b-0250956e682f",
   "metadata": {},
   "source": [
    "## 6. Receiver Operational Characteristic (ROC)"
   ]
  },
  {
   "cell_type": "code",
   "execution_count": 30,
   "id": "3f67b611-eb63-438c-832b-33d6f63928ea",
   "metadata": {},
   "outputs": [
    {
     "name": "stderr",
     "output_type": "stream",
     "text": [
      "/home/alex/MySci/anomaly/lib/python3.10/site-packages/sklearn/metrics/_ranking.py:1009: UndefinedMetricWarning: No negative samples in y_true, false positive value should be meaningless\n",
      "  warnings.warn(\n"
     ]
    }
   ],
   "source": [
    "fpr, tpr, thresholds = roc_curve(y_true, test_errors)"
   ]
  },
  {
   "cell_type": "code",
   "execution_count": 32,
   "id": "d591f518-34d3-44dc-b408-d26dc59f25eb",
   "metadata": {},
   "outputs": [
    {
     "data": {
      "image/png": "[encoded data removed]",
      "text/plain": [
       "<Figure size 640x480 with 1 Axes>"
      ]
     },
     "metadata": {},
     "output_type": "display_data"
    }
   ],
   "source": [
    "plt.figure()\n",
    "plt.plot(fpr, tpr, color='r', lw=2, label='ROC curve')\n",
    "plt.plot([0,1], [0,1], color='k', lw=2, linestyle='--')\n",
    "plt.show()"
   ]
  }
 ],
 "metadata": {
  "kernelspec": {
   "display_name": "Python 3 (ipykernel)",
   "language": "python",
   "name": "python3"
  },
  "language_info": {
   "codemirror_mode": {
    "name": "ipython",
    "version": 3
   },
   "file_extension": ".py",
   "mimetype": "text/x-python",
   "name": "python",
   "nbconvert_exporter": "python",
   "pygments_lexer": "ipython3",
   "version": "3.10.6"
  }
 },
 "nbformat": 4,
 "nbformat_minor": 5
}
