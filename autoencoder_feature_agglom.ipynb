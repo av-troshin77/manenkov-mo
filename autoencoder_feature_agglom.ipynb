{
 "cells": [
  {
   "cell_type": "markdown",
   "id": "33dfe6ab-8cca-4fdb-ba7a-9f1fe1e07be1",
   "metadata": {},
   "source": [
    "# Autoencoder with Feature Agglomeration  for Anomaly Detection"
   ]
  },
  {
   "cell_type": "code",
   "execution_count": 1,
   "id": "a15a4e8d-525d-4665-854d-3ab9e0a8c779",
   "metadata": {},
   "outputs": [
    {
     "name": "stderr",
     "output_type": "stream",
     "text": [
      "2024-02-01 16:27:09.043344: I tensorflow/core/util/port.cc:113] oneDNN custom operations are on. You may see slightly different numerical results due to floating-point round-off errors from different computation orders. To turn them off, set the environment variable `TF_ENABLE_ONEDNN_OPTS=0`.\n",
      "2024-02-01 16:27:09.060202: I tensorflow/core/platform/cpu_feature_guard.cc:182] This TensorFlow binary is optimized to use available CPU instructions in performance-critical operations.\n",
      "To enable the following instructions: AVX2 AVX_VNNI FMA, in other operations, rebuild TensorFlow with the appropriate compiler flags.\n"
     ]
    }
   ],
   "source": [
    "import pandas as pd\n",
    "import numpy as np\n",
    "from sklearn import preprocessing as pp\n",
    "import tensorflow as tf\n",
    "from sklearn.model_selection import train_test_split\n",
    "from sklearn.metrics import roc_curve\n",
    "from sklearn.metrics import average_precision_score\n",
    "from sklearn.metrics import precision_recall_curve\n",
    "from sklearn.metrics import auc\n",
    "import matplotlib.pyplot as plt\n",
    "from sklearn.cluster import FeatureAgglomeration"
   ]
  },
  {
   "cell_type": "markdown",
   "id": "2827a31b-cfe4-4042-baa3-5a4e860f2644",
   "metadata": {},
   "source": [
    "## Load Data"
   ]
  },
  {
   "cell_type": "code",
   "execution_count": 2,
   "id": "bca9bae1-eea8-4232-9289-191f151fc700",
   "metadata": {},
   "outputs": [],
   "source": [
    "data = pd.read_csv('../Datasets/kitsune_dataset/SSL_Renegotiation/SSL_Renegotiation_dataset.csv', index_col=0, dtype=np.float32)\n",
    "labels = pd.read_csv('../Datasets/kitsune_dataset/SSL_Renegotiation/SSL_Renegotiation_labels.csv', index_col=0, dtype=np.int32)"
   ]
  },
  {
   "cell_type": "code",
   "execution_count": 3,
   "id": "632376a7-d050-41e7-befe-d9224e82e094",
   "metadata": {},
   "outputs": [
    {
     "name": "stdout",
     "output_type": "stream",
     "text": [
      "<class 'pandas.core.frame.DataFrame'>\n",
      "Float64Index: 2207570 entries, 1.9995118379592896 to 58.62225341796875\n",
      "Columns: 114 entries, 1.452000000000000000e+03 to 0.000000000000000000e+00.54\n",
      "dtypes: float32(114)\n",
      "memory usage: 976.9 MB\n"
     ]
    }
   ],
   "source": [
    "data.info()"
   ]
  },
  {
   "cell_type": "code",
   "execution_count": 4,
   "id": "6e74df59-44b0-4cfe-a30c-2fbdff4f11c7",
   "metadata": {},
   "outputs": [
    {
     "name": "stdout",
     "output_type": "stream",
     "text": [
      "<class 'pandas.core.frame.DataFrame'>\n",
      "Int64Index: 2207571 entries, 1 to 2207571\n",
      "Data columns (total 1 columns):\n",
      " #   Column  Dtype\n",
      "---  ------  -----\n",
      " 0   x       int32\n",
      "dtypes: int32(1)\n",
      "memory usage: 25.3 MB\n"
     ]
    }
   ],
   "source": [
    "labels.info()"
   ]
  },
  {
   "cell_type": "markdown",
   "id": "3cb9daad-0dba-461c-bb1e-3d7fa1520bca",
   "metadata": {},
   "source": [
    "## Scale Data"
   ]
  },
  {
   "cell_type": "code",
   "execution_count": 5,
   "id": "a486fc47-aa0e-4954-865a-e0935f0d4320",
   "metadata": {},
   "outputs": [
    {
     "data": {
      "text/html": [
       "<div>\n",
       "<style scoped>\n",
       "    .dataframe tbody tr th:only-of-type {\n",
       "        vertical-align: middle;\n",
       "    }\n",
       "\n",
       "    .dataframe tbody tr th {\n",
       "        vertical-align: top;\n",
       "    }\n",
       "\n",
       "    .dataframe thead th {\n",
       "        text-align: right;\n",
       "    }\n",
       "</style>\n",
       "<table border=\"1\" class=\"dataframe\">\n",
       "  <thead>\n",
       "    <tr style=\"text-align: right;\">\n",
       "      <th></th>\n",
       "      <th>0</th>\n",
       "      <th>1</th>\n",
       "      <th>2</th>\n",
       "      <th>3</th>\n",
       "      <th>4</th>\n",
       "      <th>5</th>\n",
       "      <th>6</th>\n",
       "      <th>7</th>\n",
       "      <th>8</th>\n",
       "      <th>9</th>\n",
       "      <th>...</th>\n",
       "      <th>104</th>\n",
       "      <th>105</th>\n",
       "      <th>106</th>\n",
       "      <th>107</th>\n",
       "      <th>108</th>\n",
       "      <th>109</th>\n",
       "      <th>110</th>\n",
       "      <th>111</th>\n",
       "      <th>112</th>\n",
       "      <th>113</th>\n",
       "    </tr>\n",
       "  </thead>\n",
       "  <tbody>\n",
       "    <tr>\n",
       "      <th>count</th>\n",
       "      <td>2.207570e+06</td>\n",
       "      <td>2.207570e+06</td>\n",
       "      <td>2.207570e+06</td>\n",
       "      <td>2.207570e+06</td>\n",
       "      <td>2.207570e+06</td>\n",
       "      <td>2.207570e+06</td>\n",
       "      <td>2.207570e+06</td>\n",
       "      <td>2.207570e+06</td>\n",
       "      <td>2.207570e+06</td>\n",
       "      <td>2.207570e+06</td>\n",
       "      <td>...</td>\n",
       "      <td>2.207570e+06</td>\n",
       "      <td>2.207570e+06</td>\n",
       "      <td>2.207570e+06</td>\n",
       "      <td>2.207570e+06</td>\n",
       "      <td>2.207570e+06</td>\n",
       "      <td>2.207570e+06</td>\n",
       "      <td>2.207570e+06</td>\n",
       "      <td>2.207570e+06</td>\n",
       "      <td>2.207570e+06</td>\n",
       "      <td>2.207570e+06</td>\n",
       "    </tr>\n",
       "    <tr>\n",
       "      <th>mean</th>\n",
       "      <td>5.230221e-01</td>\n",
       "      <td>7.310861e-01</td>\n",
       "      <td>3.786336e-01</td>\n",
       "      <td>5.231792e-01</td>\n",
       "      <td>7.304667e-01</td>\n",
       "      <td>4.491651e-01</td>\n",
       "      <td>5.232405e-01</td>\n",
       "      <td>7.361219e-01</td>\n",
       "      <td>4.818639e-01</td>\n",
       "      <td>5.226086e-01</td>\n",
       "      <td>...</td>\n",
       "      <td>5.267384e-02</td>\n",
       "      <td>3.171571e-01</td>\n",
       "      <td>5.161418e-01</td>\n",
       "      <td>5.011709e-01</td>\n",
       "      <td>5.233990e-01</td>\n",
       "      <td>1.623612e-01</td>\n",
       "      <td>5.872549e-01</td>\n",
       "      <td>5.187116e-02</td>\n",
       "      <td>3.080821e-01</td>\n",
       "      <td>5.137649e-01</td>\n",
       "    </tr>\n",
       "    <tr>\n",
       "      <th>std</th>\n",
       "      <td>2.157969e-01</td>\n",
       "      <td>3.460548e-01</td>\n",
       "      <td>1.833470e-01</td>\n",
       "      <td>2.154852e-01</td>\n",
       "      <td>3.449166e-01</td>\n",
       "      <td>2.129695e-01</td>\n",
       "      <td>2.150633e-01</td>\n",
       "      <td>3.464056e-01</td>\n",
       "      <td>2.316266e-01</td>\n",
       "      <td>2.138438e-01</td>\n",
       "      <td>...</td>\n",
       "      <td>4.261437e-02</td>\n",
       "      <td>4.947096e-03</td>\n",
       "      <td>1.814015e-02</td>\n",
       "      <td>1.756174e-01</td>\n",
       "      <td>4.659409e-01</td>\n",
       "      <td>1.416440e-01</td>\n",
       "      <td>4.561522e-01</td>\n",
       "      <td>4.151327e-02</td>\n",
       "      <td>5.216944e-03</td>\n",
       "      <td>2.225696e-02</td>\n",
       "    </tr>\n",
       "    <tr>\n",
       "      <th>min</th>\n",
       "      <td>0.000000e+00</td>\n",
       "      <td>0.000000e+00</td>\n",
       "      <td>0.000000e+00</td>\n",
       "      <td>0.000000e+00</td>\n",
       "      <td>0.000000e+00</td>\n",
       "      <td>0.000000e+00</td>\n",
       "      <td>0.000000e+00</td>\n",
       "      <td>0.000000e+00</td>\n",
       "      <td>0.000000e+00</td>\n",
       "      <td>0.000000e+00</td>\n",
       "      <td>...</td>\n",
       "      <td>0.000000e+00</td>\n",
       "      <td>0.000000e+00</td>\n",
       "      <td>0.000000e+00</td>\n",
       "      <td>0.000000e+00</td>\n",
       "      <td>0.000000e+00</td>\n",
       "      <td>0.000000e+00</td>\n",
       "      <td>0.000000e+00</td>\n",
       "      <td>0.000000e+00</td>\n",
       "      <td>0.000000e+00</td>\n",
       "      <td>0.000000e+00</td>\n",
       "    </tr>\n",
       "    <tr>\n",
       "      <th>25%</th>\n",
       "      <td>4.868801e-01</td>\n",
       "      <td>8.881618e-01</td>\n",
       "      <td>2.754798e-01</td>\n",
       "      <td>4.880169e-01</td>\n",
       "      <td>8.927369e-01</td>\n",
       "      <td>3.870998e-01</td>\n",
       "      <td>4.892890e-01</td>\n",
       "      <td>9.052647e-01</td>\n",
       "      <td>4.154522e-01</td>\n",
       "      <td>4.903207e-01</td>\n",
       "      <td>...</td>\n",
       "      <td>1.833590e-14</td>\n",
       "      <td>3.173342e-01</td>\n",
       "      <td>5.173889e-01</td>\n",
       "      <td>4.843781e-01</td>\n",
       "      <td>6.617078e-02</td>\n",
       "      <td>2.262033e-07</td>\n",
       "      <td>6.749682e-02</td>\n",
       "      <td>6.754160e-14</td>\n",
       "      <td>3.083236e-01</td>\n",
       "      <td>5.164910e-01</td>\n",
       "    </tr>\n",
       "    <tr>\n",
       "      <th>50%</th>\n",
       "      <td>4.924117e-01</td>\n",
       "      <td>9.036382e-01</td>\n",
       "      <td>3.523497e-01</td>\n",
       "      <td>4.921539e-01</td>\n",
       "      <td>9.034353e-01</td>\n",
       "      <td>4.353685e-01</td>\n",
       "      <td>4.918669e-01</td>\n",
       "      <td>9.104096e-01</td>\n",
       "      <td>4.772763e-01</td>\n",
       "      <td>4.917721e-01</td>\n",
       "      <td>...</td>\n",
       "      <td>7.154663e-02</td>\n",
       "      <td>3.173342e-01</td>\n",
       "      <td>5.173889e-01</td>\n",
       "      <td>5.384267e-01</td>\n",
       "      <td>2.172548e-01</td>\n",
       "      <td>2.642589e-01</td>\n",
       "      <td>9.672012e-01</td>\n",
       "      <td>7.327552e-02</td>\n",
       "      <td>3.083236e-01</td>\n",
       "      <td>5.164910e-01</td>\n",
       "    </tr>\n",
       "    <tr>\n",
       "      <th>75%</th>\n",
       "      <td>4.980500e-01</td>\n",
       "      <td>9.133360e-01</td>\n",
       "      <td>4.415605e-01</td>\n",
       "      <td>4.967374e-01</td>\n",
       "      <td>9.103763e-01</td>\n",
       "      <td>4.695522e-01</td>\n",
       "      <td>4.952738e-01</td>\n",
       "      <td>9.152465e-01</td>\n",
       "      <td>4.913601e-01</td>\n",
       "      <td>4.939931e-01</td>\n",
       "      <td>...</td>\n",
       "      <td>8.432073e-02</td>\n",
       "      <td>3.173342e-01</td>\n",
       "      <td>5.173889e-01</td>\n",
       "      <td>5.880302e-01</td>\n",
       "      <td>9.985632e-01</td>\n",
       "      <td>2.871549e-01</td>\n",
       "      <td>9.985632e-01</td>\n",
       "      <td>8.302195e-02</td>\n",
       "      <td>3.083236e-01</td>\n",
       "      <td>5.164910e-01</td>\n",
       "    </tr>\n",
       "    <tr>\n",
       "      <th>max</th>\n",
       "      <td>1.000000e+00</td>\n",
       "      <td>9.999999e-01</td>\n",
       "      <td>1.000000e+00</td>\n",
       "      <td>1.000000e+00</td>\n",
       "      <td>1.000000e+00</td>\n",
       "      <td>1.000000e+00</td>\n",
       "      <td>1.000000e+00</td>\n",
       "      <td>9.999999e-01</td>\n",
       "      <td>1.000000e+00</td>\n",
       "      <td>1.000000e+00</td>\n",
       "      <td>...</td>\n",
       "      <td>1.000000e+00</td>\n",
       "      <td>1.000000e+00</td>\n",
       "      <td>1.000000e+00</td>\n",
       "      <td>1.000000e+00</td>\n",
       "      <td>1.000000e+00</td>\n",
       "      <td>1.000000e+00</td>\n",
       "      <td>1.000000e+00</td>\n",
       "      <td>1.000000e+00</td>\n",
       "      <td>9.999999e-01</td>\n",
       "      <td>1.000000e+00</td>\n",
       "    </tr>\n",
       "  </tbody>\n",
       "</table>\n",
       "<p>8 rows × 114 columns</p>\n",
       "</div>"
      ],
      "text/plain": [
       "                0             1             2             3             4    \\\n",
       "count  2.207570e+06  2.207570e+06  2.207570e+06  2.207570e+06  2.207570e+06   \n",
       "mean   5.230221e-01  7.310861e-01  3.786336e-01  5.231792e-01  7.304667e-01   \n",
       "std    2.157969e-01  3.460548e-01  1.833470e-01  2.154852e-01  3.449166e-01   \n",
       "min    0.000000e+00  0.000000e+00  0.000000e+00  0.000000e+00  0.000000e+00   \n",
       "25%    4.868801e-01  8.881618e-01  2.754798e-01  4.880169e-01  8.927369e-01   \n",
       "50%    4.924117e-01  9.036382e-01  3.523497e-01  4.921539e-01  9.034353e-01   \n",
       "75%    4.980500e-01  9.133360e-01  4.415605e-01  4.967374e-01  9.103763e-01   \n",
       "max    1.000000e+00  9.999999e-01  1.000000e+00  1.000000e+00  1.000000e+00   \n",
       "\n",
       "                5             6             7             8             9    \\\n",
       "count  2.207570e+06  2.207570e+06  2.207570e+06  2.207570e+06  2.207570e+06   \n",
       "mean   4.491651e-01  5.232405e-01  7.361219e-01  4.818639e-01  5.226086e-01   \n",
       "std    2.129695e-01  2.150633e-01  3.464056e-01  2.316266e-01  2.138438e-01   \n",
       "min    0.000000e+00  0.000000e+00  0.000000e+00  0.000000e+00  0.000000e+00   \n",
       "25%    3.870998e-01  4.892890e-01  9.052647e-01  4.154522e-01  4.903207e-01   \n",
       "50%    4.353685e-01  4.918669e-01  9.104096e-01  4.772763e-01  4.917721e-01   \n",
       "75%    4.695522e-01  4.952738e-01  9.152465e-01  4.913601e-01  4.939931e-01   \n",
       "max    1.000000e+00  1.000000e+00  9.999999e-01  1.000000e+00  1.000000e+00   \n",
       "\n",
       "       ...           104           105           106           107  \\\n",
       "count  ...  2.207570e+06  2.207570e+06  2.207570e+06  2.207570e+06   \n",
       "mean   ...  5.267384e-02  3.171571e-01  5.161418e-01  5.011709e-01   \n",
       "std    ...  4.261437e-02  4.947096e-03  1.814015e-02  1.756174e-01   \n",
       "min    ...  0.000000e+00  0.000000e+00  0.000000e+00  0.000000e+00   \n",
       "25%    ...  1.833590e-14  3.173342e-01  5.173889e-01  4.843781e-01   \n",
       "50%    ...  7.154663e-02  3.173342e-01  5.173889e-01  5.384267e-01   \n",
       "75%    ...  8.432073e-02  3.173342e-01  5.173889e-01  5.880302e-01   \n",
       "max    ...  1.000000e+00  1.000000e+00  1.000000e+00  1.000000e+00   \n",
       "\n",
       "                108           109           110           111           112  \\\n",
       "count  2.207570e+06  2.207570e+06  2.207570e+06  2.207570e+06  2.207570e+06   \n",
       "mean   5.233990e-01  1.623612e-01  5.872549e-01  5.187116e-02  3.080821e-01   \n",
       "std    4.659409e-01  1.416440e-01  4.561522e-01  4.151327e-02  5.216944e-03   \n",
       "min    0.000000e+00  0.000000e+00  0.000000e+00  0.000000e+00  0.000000e+00   \n",
       "25%    6.617078e-02  2.262033e-07  6.749682e-02  6.754160e-14  3.083236e-01   \n",
       "50%    2.172548e-01  2.642589e-01  9.672012e-01  7.327552e-02  3.083236e-01   \n",
       "75%    9.985632e-01  2.871549e-01  9.985632e-01  8.302195e-02  3.083236e-01   \n",
       "max    1.000000e+00  1.000000e+00  1.000000e+00  1.000000e+00  9.999999e-01   \n",
       "\n",
       "                113  \n",
       "count  2.207570e+06  \n",
       "mean   5.137649e-01  \n",
       "std    2.225696e-02  \n",
       "min    0.000000e+00  \n",
       "25%    5.164910e-01  \n",
       "50%    5.164910e-01  \n",
       "75%    5.164910e-01  \n",
       "max    1.000000e+00  \n",
       "\n",
       "[8 rows x 114 columns]"
      ]
     },
     "execution_count": 5,
     "metadata": {},
     "output_type": "execute_result"
    }
   ],
   "source": [
    "scaler = pp.MinMaxScaler()\n",
    "data = scaler.fit_transform(data)\n",
    "data = pd.DataFrame(data)\n",
    "data.describe()"
   ]
  },
  {
   "cell_type": "markdown",
   "id": "5654d1d8-7ca5-4f31-93d2-005acabef525",
   "metadata": {},
   "source": [
    "## Train-Test Split"
   ]
  },
  {
   "cell_type": "code",
   "execution_count": 6,
   "id": "45a90aa3-29f2-4579-962b-5c93d81b89cd",
   "metadata": {},
   "outputs": [],
   "source": [
    "# drop the last row\n",
    "labels=labels[:-1]\n",
    "labels.tail(5)\n",
    "# train-test split\n",
    "X_train, X_test, y_train, y_test = train_test_split(data, labels, shuffle=False, test_size=0.3)"
   ]
  },
  {
   "cell_type": "code",
   "execution_count": 7,
   "id": "9f687ec7-3c07-462f-964a-4a108aab07f8",
   "metadata": {},
   "outputs": [
    {
     "name": "stdout",
     "output_type": "stream",
     "text": [
      "Number anomalies in train data: x    25928\n",
      "dtype: int64\n",
      "Number anomalies in test data: x    66723\n",
      "dtype: int64\n"
     ]
    }
   ],
   "source": [
    "# anomaly counts\n",
    "print(f'Number anomalies in train data: {y_train.sum()}')\n",
    "print(f'Number anomalies in test data: {y_test.sum()}')"
   ]
  },
  {
   "cell_type": "markdown",
   "id": "b9dfd2c7-865c-4e7a-a0a4-aaa56e30b786",
   "metadata": {},
   "source": [
    "## Feature Agglomeration"
   ]
  },
  {
   "cell_type": "code",
   "execution_count": 92,
   "id": "db6f6ae3-3b46-4c58-a1bf-80dfd162e4b4",
   "metadata": {},
   "outputs": [
    {
     "data": {
      "text/html": [
       "<style>#sk-container-id-7 {color: black;background-color: white;}#sk-container-id-7 pre{padding: 0;}#sk-container-id-7 div.sk-toggleable {background-color: white;}#sk-container-id-7 label.sk-toggleable__label {cursor: pointer;display: block;width: 100%;margin-bottom: 0;padding: 0.3em;box-sizing: border-box;text-align: center;}#sk-container-id-7 label.sk-toggleable__label-arrow:before {content: \"▸\";float: left;margin-right: 0.25em;color: #696969;}#sk-container-id-7 label.sk-toggleable__label-arrow:hover:before {color: black;}#sk-container-id-7 div.sk-estimator:hover label.sk-toggleable__label-arrow:before {color: black;}#sk-container-id-7 div.sk-toggleable__content {max-height: 0;max-width: 0;overflow: hidden;text-align: left;background-color: #f0f8ff;}#sk-container-id-7 div.sk-toggleable__content pre {margin: 0.2em;color: black;border-radius: 0.25em;background-color: #f0f8ff;}#sk-container-id-7 input.sk-toggleable__control:checked~div.sk-toggleable__content {max-height: 200px;max-width: 100%;overflow: auto;}#sk-container-id-7 input.sk-toggleable__control:checked~label.sk-toggleable__label-arrow:before {content: \"▾\";}#sk-container-id-7 div.sk-estimator input.sk-toggleable__control:checked~label.sk-toggleable__label {background-color: #d4ebff;}#sk-container-id-7 div.sk-label input.sk-toggleable__control:checked~label.sk-toggleable__label {background-color: #d4ebff;}#sk-container-id-7 input.sk-hidden--visually {border: 0;clip: rect(1px 1px 1px 1px);clip: rect(1px, 1px, 1px, 1px);height: 1px;margin: -1px;overflow: hidden;padding: 0;position: absolute;width: 1px;}#sk-container-id-7 div.sk-estimator {font-family: monospace;background-color: #f0f8ff;border: 1px dotted black;border-radius: 0.25em;box-sizing: border-box;margin-bottom: 0.5em;}#sk-container-id-7 div.sk-estimator:hover {background-color: #d4ebff;}#sk-container-id-7 div.sk-parallel-item::after {content: \"\";width: 100%;border-bottom: 1px solid gray;flex-grow: 1;}#sk-container-id-7 div.sk-label:hover label.sk-toggleable__label {background-color: #d4ebff;}#sk-container-id-7 div.sk-serial::before {content: \"\";position: absolute;border-left: 1px solid gray;box-sizing: border-box;top: 0;bottom: 0;left: 50%;z-index: 0;}#sk-container-id-7 div.sk-serial {display: flex;flex-direction: column;align-items: center;background-color: white;padding-right: 0.2em;padding-left: 0.2em;position: relative;}#sk-container-id-7 div.sk-item {position: relative;z-index: 1;}#sk-container-id-7 div.sk-parallel {display: flex;align-items: stretch;justify-content: center;background-color: white;position: relative;}#sk-container-id-7 div.sk-item::before, #sk-container-id-7 div.sk-parallel-item::before {content: \"\";position: absolute;border-left: 1px solid gray;box-sizing: border-box;top: 0;bottom: 0;left: 50%;z-index: -1;}#sk-container-id-7 div.sk-parallel-item {display: flex;flex-direction: column;z-index: 1;position: relative;background-color: white;}#sk-container-id-7 div.sk-parallel-item:first-child::after {align-self: flex-end;width: 50%;}#sk-container-id-7 div.sk-parallel-item:last-child::after {align-self: flex-start;width: 50%;}#sk-container-id-7 div.sk-parallel-item:only-child::after {width: 0;}#sk-container-id-7 div.sk-dashed-wrapped {border: 1px dashed gray;margin: 0 0.4em 0.5em 0.4em;box-sizing: border-box;padding-bottom: 0.4em;background-color: white;}#sk-container-id-7 div.sk-label label {font-family: monospace;font-weight: bold;display: inline-block;line-height: 1.2em;}#sk-container-id-7 div.sk-label-container {text-align: center;}#sk-container-id-7 div.sk-container {/* jupyter's `normalize.less` sets `[hidden] { display: none; }` but bootstrap.min.css set `[hidden] { display: none !important; }` so we also need the `!important` here to be able to override the default hidden behavior on the sphinx rendered scikit-learn.org. See: https://github.com/scikit-learn/scikit-learn/issues/21755 */display: inline-block !important;position: relative;}#sk-container-id-7 div.sk-text-repr-fallback {display: none;}</style><div id=\"sk-container-id-7\" class=\"sk-top-container\"><div class=\"sk-text-repr-fallback\"><pre>FeatureAgglomeration(n_clusters=56)</pre><b>In a Jupyter environment, please rerun this cell to show the HTML representation or trust the notebook. <br />On GitHub, the HTML representation is unable to render, please try loading this page with nbviewer.org.</b></div><div class=\"sk-container\" hidden><div class=\"sk-item\"><div class=\"sk-estimator sk-toggleable\"><input class=\"sk-toggleable__control sk-hidden--visually\" id=\"sk-estimator-id-7\" type=\"checkbox\" checked><label for=\"sk-estimator-id-7\" class=\"sk-toggleable__label sk-toggleable__label-arrow\">FeatureAgglomeration</label><div class=\"sk-toggleable__content\"><pre>FeatureAgglomeration(n_clusters=56)</pre></div></div></div></div></div>"
      ],
      "text/plain": [
       "FeatureAgglomeration(n_clusters=56)"
      ]
     },
     "execution_count": 92,
     "metadata": {},
     "output_type": "execute_result"
    }
   ],
   "source": [
    "n_clusters = 56\n",
    "faggl = FeatureAgglomeration(n_clusters=n_clusters)\n",
    "faggl.fit(X_train)"
   ]
  },
  {
   "cell_type": "code",
   "execution_count": 93,
   "id": "31e44120-c080-4821-ae1b-64b27f15139b",
   "metadata": {},
   "outputs": [
    {
     "name": "stdout",
     "output_type": "stream",
     "text": [
      "(1545299, 56)\n"
     ]
    }
   ],
   "source": [
    "X_train_clust = faggl.transform(X_train)\n",
    "print(X_train_clust.shape)"
   ]
  },
  {
   "cell_type": "code",
   "execution_count": 94,
   "id": "f9e9dfba-ab76-4f95-b92b-d8f8ac93a389",
   "metadata": {},
   "outputs": [
    {
     "name": "stdout",
     "output_type": "stream",
     "text": [
      "(662271, 56)\n"
     ]
    }
   ],
   "source": [
    "X_test_clust = faggl.transform(X_test)\n",
    "print(X_test_clust.shape)"
   ]
  },
  {
   "cell_type": "markdown",
   "id": "72047bb0-db41-4862-b02a-0efed1b46ba1",
   "metadata": {},
   "source": [
    "## Define Autoencoder"
   ]
  },
  {
   "cell_type": "code",
   "execution_count": 95,
   "id": "e7ab98af-9839-4b85-9278-bde6e8a8f02d",
   "metadata": {},
   "outputs": [],
   "source": [
    "# model parameters\n",
    "n_input = X_train_clust.shape[1]\n",
    "n_hidden = n_clusters/2"
   ]
  },
  {
   "cell_type": "code",
   "execution_count": 96,
   "id": "72bffaea-256e-412b-a74a-8162a8177d16",
   "metadata": {},
   "outputs": [],
   "source": [
    "def autoencoder(n_input, n_hidden, lr=0.001):\n",
    "    # define layers\n",
    "    inputs = tf.keras.Input(shape=(n_input,))\n",
    "    dense1 = tf.keras.layers.Dense(n_hidden, activation='relu')\n",
    "    outputs = tf.keras.layers.Dense(n_input, activation='linear')\n",
    "    layers = [inputs, dense1, outputs]\n",
    "    # create model\n",
    "    model = tf.keras.models.Sequential(layers)\n",
    "    model.summary()\n",
    "    # compile model\n",
    "    opt = tf.keras.optimizers.Adam(learning_rate=lr)\n",
    "    rmse = tf.keras.metrics.RootMeanSquaredError()\n",
    "    mae = tf.keras.metrics.MeanAbsoluteError()\n",
    "    model.compile(optimizer=opt, loss='mean_squared_error', metrics=[rmse, mae])\n",
    "    return model"
   ]
  },
  {
   "cell_type": "markdown",
   "id": "b5b704c2-0ecb-4487-b053-56c1921a28b7",
   "metadata": {},
   "source": [
    "## Train"
   ]
  },
  {
   "cell_type": "code",
   "execution_count": 97,
   "id": "68542f59-67c3-439f-9575-56355ed42e60",
   "metadata": {},
   "outputs": [
    {
     "name": "stdout",
     "output_type": "stream",
     "text": [
      "Model: \"sequential_6\"\n",
      "_________________________________________________________________\n",
      " Layer (type)                Output Shape              Param #   \n",
      "=================================================================\n",
      " dense_12 (Dense)            (None, 28)                1596      \n",
      "                                                                 \n",
      " dense_13 (Dense)            (None, 56)                1624      \n",
      "                                                                 \n",
      "=================================================================\n",
      "Total params: 3220 (12.58 KB)\n",
      "Trainable params: 3220 (12.58 KB)\n",
      "Non-trainable params: 0 (0.00 Byte)\n",
      "_________________________________________________________________\n"
     ]
    }
   ],
   "source": [
    "model = autoencoder(n_input, n_hidden, lr=0.001)"
   ]
  },
  {
   "cell_type": "code",
   "execution_count": 98,
   "id": "67e825bc-5aaf-46c7-b9de-ccac31c374f3",
   "metadata": {},
   "outputs": [],
   "source": [
    "early_stopping = tf.keras.callbacks.EarlyStopping(monitor='val_loss',\n",
    "                                                  min_delta=0.0001,\n",
    "                                                  patience=10,\n",
    "                                                  verbose=0,\n",
    "                                                  mode='auto',\n",
    "                                                  restore_best_weights=True)\n",
    "history = model.fit(X_train_clust,\n",
    "                    X_train_clust,\n",
    "                    epochs=100,\n",
    "                    batch_size=10000,\n",
    "                    validation_data=(X_test_clust, X_test_clust),\n",
    "                    callbacks=[early_stopping],\n",
    "                    verbose=0)"
   ]
  },
  {
   "cell_type": "code",
   "execution_count": 99,
   "id": "0284ad8c-0e19-445c-b3b3-d80e4040d4d3",
   "metadata": {},
   "outputs": [
    {
     "name": "stdout",
     "output_type": "stream",
     "text": [
      "Minimal Loss: 0.0004\n"
     ]
    },
    {
     "data": {
      "image/png": "[encoded data removed]",
      "text/plain": [
       "<Figure size 1000x500 with 1 Axes>"
      ]
     },
     "metadata": {},
     "output_type": "display_data"
    }
   ],
   "source": [
    "loss = history.history['loss']\n",
    "val_loss = history.history['val_loss']\n",
    "min_loss = min(val_loss)\n",
    "print(f'Minimal Loss: {min_loss:.4f}')\n",
    "plt.figure(figsize=(10,5))\n",
    "plt.plot(loss, 'r', label='Loss of training data')\n",
    "plt.plot(val_loss, 'b-', label='Loss of validation data')\n",
    "plt.title('Model Loss')\n",
    "plt.ylabel('Loss')\n",
    "plt.xlabel('Training Epoch')\n",
    "plt.legend()\n",
    "plt.show()"
   ]
  },
  {
   "cell_type": "markdown",
   "id": "d6d6271e-530e-476a-8f23-2d475fc01f59",
   "metadata": {},
   "source": [
    "## Evaluate"
   ]
  },
  {
   "cell_type": "code",
   "execution_count": 100,
   "id": "e80a5165-df10-49d7-875d-880a707fc635",
   "metadata": {},
   "outputs": [
    {
     "name": "stdout",
     "output_type": "stream",
     "text": [
      "20696/20696 [==============================] - 5s 243us/step\n"
     ]
    }
   ],
   "source": [
    "predictions = model.predict(X_test_clust, verbose=1)"
   ]
  },
  {
   "cell_type": "code",
   "execution_count": 101,
   "id": "1fd5d998-f145-4662-85bd-4f10b4509382",
   "metadata": {},
   "outputs": [],
   "source": [
    "def reconstr_error(original, reconstr):\n",
    "    errors = np.sqrt(np.sum((original - reconstr)**2, axis=1))\n",
    "    return errors"
   ]
  },
  {
   "cell_type": "code",
   "execution_count": 102,
   "id": "77b9a670-a70b-41e6-8b8b-865cfe8289c9",
   "metadata": {},
   "outputs": [],
   "source": [
    "errors = reconstr_error(X_test_clust, predictions)"
   ]
  },
  {
   "cell_type": "code",
   "execution_count": 103,
   "id": "bc3c4c8c-fb5a-4c6c-80e6-64ff8c38fded",
   "metadata": {},
   "outputs": [
    {
     "name": "stdout",
     "output_type": "stream",
     "text": [
      "Average precision score for test: 0.4580\n"
     ]
    }
   ],
   "source": [
    "# average precision score train\n",
    "aps_test = average_precision_score(y_test, errors)\n",
    "print(f'Average precision score for test: {aps_test:.4f}')"
   ]
  },
  {
   "cell_type": "code",
   "execution_count": 104,
   "id": "bd4d160c-8737-42ac-8dcb-1ebed8e6ee9b",
   "metadata": {},
   "outputs": [
    {
     "data": {
      "image/png": "[encoded data removed]",
      "text/plain": [
       "<Figure size 640x480 with 1 Axes>"
      ]
     },
     "metadata": {},
     "output_type": "display_data"
    }
   ],
   "source": [
    "# precision-recall curve for test results\n",
    "precision, recall, thresholds = precision_recall_curve(y_test, errors)\n",
    "plt.title(f'Precision-Recall Curve. Average precision: {aps_test:.2f}')\n",
    "plt.xlabel('Recall')\n",
    "plt.xlim([0, 1.1])\n",
    "plt.ylim([0, 1.1])\n",
    "plt.ylabel('Precision')\n",
    "#plt.ylim([0, 1.1])\n",
    "#plt.xlim([0, 1.0])\n",
    "plt.plot(recall, precision)\n",
    "plt.show()"
   ]
  },
  {
   "cell_type": "code",
   "execution_count": 105,
   "id": "a2e2a65d-1930-456d-930d-c3af8892a753",
   "metadata": {},
   "outputs": [
    {
     "data": {
      "image/png": "[encoded data removed]",
      "text/plain": [
       "<Figure size 640x480 with 1 Axes>"
      ]
     },
     "metadata": {},
     "output_type": "display_data"
    }
   ],
   "source": [
    "# receiver operational characteristic\n",
    "fpr, tpr, thresholds = roc_curve(y_test, errors)\n",
    "auROC = auc(fpr, tpr)\n",
    "plt.figure()\n",
    "plt.title(f'ROCurve. AuROC={auROC:.2f}')\n",
    "plt.plot(fpr, tpr, color='r', lw=2)\n",
    "plt.xlabel('False Positive Rate')\n",
    "plt.ylabel('True Positive Rate')\n",
    "plt.plot([0,1], [0,1], color='k', lw=2, linestyle='--')\n",
    "plt.show()"
   ]
  },
  {
   "cell_type": "code",
   "execution_count": null,
   "id": "9148925e-5aea-4a0e-9c0c-2731612d145a",
   "metadata": {},
   "outputs": [],
   "source": []
  }
 ],
 "metadata": {
  "kernelspec": {
   "display_name": "Python 3 (ipykernel)",
   "language": "python",
   "name": "python3"
  },
  "language_info": {
   "codemirror_mode": {
    "name": "ipython",
    "version": 3
   },
   "file_extension": ".py",
   "mimetype": "text/x-python",
   "name": "python",
   "nbconvert_exporter": "python",
   "pygments_lexer": "ipython3",
   "version": "3.10.12"
  }
 },
 "nbformat": 4,
 "nbformat_minor": 5
}
