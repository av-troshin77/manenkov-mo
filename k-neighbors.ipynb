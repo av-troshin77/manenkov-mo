{
 "cells": [
  {
   "cell_type": "markdown",
   "id": "33dfe6ab-8cca-4fdb-ba7a-9f1fe1e07be1",
   "metadata": {},
   "source": [
    "# K-neighbors Anomaly Detection"
   ]
  },
  {
   "cell_type": "code",
   "execution_count": 1,
   "id": "a15a4e8d-525d-4665-854d-3ab9e0a8c779",
   "metadata": {},
   "outputs": [],
   "source": [
    "import pandas as pd\n",
    "import numpy as np\n",
    "from sklearn import preprocessing as pp\n",
    "from sklearn.neighbors import LocalOutlierFactor\n",
    "from sklearn.model_selection import train_test_split\n",
    "from sklearn.metrics import roc_curve\n",
    "from sklearn.metrics import average_precision_score\n",
    "from sklearn.metrics import precision_recall_curve\n",
    "from sklearn.metrics import auc\n",
    "import matplotlib.pyplot as plt"
   ]
  },
  {
   "cell_type": "markdown",
   "id": "2827a31b-cfe4-4042-baa3-5a4e860f2644",
   "metadata": {},
   "source": [
    "## Load Data"
   ]
  },
  {
   "cell_type": "code",
   "execution_count": 2,
   "id": "bca9bae1-eea8-4232-9289-191f151fc700",
   "metadata": {},
   "outputs": [],
   "source": [
    "data = pd.read_csv('../Datasets/kitsune_dataset/SSDP_Flood/SSDP_Flood_dataset.csv', index_col=0, dtype=np.float32)\n",
    "labels = pd.read_csv('../Datasets/kitsune_dataset/SSDP_Flood/SSDP_Flood_labels.csv', index_col=0, dtype=np.int32)"
   ]
  },
  {
   "cell_type": "code",
   "execution_count": 3,
   "id": "632376a7-d050-41e7-befe-d9224e82e094",
   "metadata": {},
   "outputs": [
    {
     "name": "stdout",
     "output_type": "stream",
     "text": [
      "<class 'pandas.core.frame.DataFrame'>\n",
      "Float64Index: 4077265 entries, 1.997161626815796 to 7431.08154296875\n",
      "Columns: 114 entries, 2.090000000000000000e+02 to 0.000000000000000000e+00.54\n",
      "dtypes: float32(114)\n",
      "memory usage: 1.8 GB\n"
     ]
    }
   ],
   "source": [
    "data.info()"
   ]
  },
  {
   "cell_type": "code",
   "execution_count": 4,
   "id": "6e74df59-44b0-4cfe-a30c-2fbdff4f11c7",
   "metadata": {},
   "outputs": [
    {
     "name": "stdout",
     "output_type": "stream",
     "text": [
      "<class 'pandas.core.frame.DataFrame'>\n",
      "Int64Index: 4077266 entries, 1 to 4077266\n",
      "Data columns (total 1 columns):\n",
      " #   Column  Dtype\n",
      "---  ------  -----\n",
      " 0   x       int32\n",
      "dtypes: int32(1)\n",
      "memory usage: 46.7 MB\n"
     ]
    }
   ],
   "source": [
    "labels.info()"
   ]
  },
  {
   "cell_type": "markdown",
   "id": "3cb9daad-0dba-461c-bb1e-3d7fa1520bca",
   "metadata": {},
   "source": [
    "## Scale Data"
   ]
  },
  {
   "cell_type": "code",
   "execution_count": 5,
   "id": "a486fc47-aa0e-4954-865a-e0935f0d4320",
   "metadata": {},
   "outputs": [
    {
     "data": {
      "text/html": [
       "<div>\n",
       "<style scoped>\n",
       "    .dataframe tbody tr th:only-of-type {\n",
       "        vertical-align: middle;\n",
       "    }\n",
       "\n",
       "    .dataframe tbody tr th {\n",
       "        vertical-align: top;\n",
       "    }\n",
       "\n",
       "    .dataframe thead th {\n",
       "        text-align: right;\n",
       "    }\n",
       "</style>\n",
       "<table border=\"1\" class=\"dataframe\">\n",
       "  <thead>\n",
       "    <tr style=\"text-align: right;\">\n",
       "      <th></th>\n",
       "      <th>0</th>\n",
       "      <th>1</th>\n",
       "      <th>2</th>\n",
       "      <th>3</th>\n",
       "      <th>4</th>\n",
       "      <th>5</th>\n",
       "      <th>6</th>\n",
       "      <th>7</th>\n",
       "      <th>8</th>\n",
       "      <th>9</th>\n",
       "      <th>...</th>\n",
       "      <th>104</th>\n",
       "      <th>105</th>\n",
       "      <th>106</th>\n",
       "      <th>107</th>\n",
       "      <th>108</th>\n",
       "      <th>109</th>\n",
       "      <th>110</th>\n",
       "      <th>111</th>\n",
       "      <th>112</th>\n",
       "      <th>113</th>\n",
       "    </tr>\n",
       "  </thead>\n",
       "  <tbody>\n",
       "    <tr>\n",
       "      <th>count</th>\n",
       "      <td>4.077265e+06</td>\n",
       "      <td>4.077265e+06</td>\n",
       "      <td>4.077265e+06</td>\n",
       "      <td>4.077265e+06</td>\n",
       "      <td>4.077265e+06</td>\n",
       "      <td>4.077265e+06</td>\n",
       "      <td>4.077265e+06</td>\n",
       "      <td>4.077265e+06</td>\n",
       "      <td>4.077265e+06</td>\n",
       "      <td>4.077265e+06</td>\n",
       "      <td>...</td>\n",
       "      <td>4.077265e+06</td>\n",
       "      <td>4.077265e+06</td>\n",
       "      <td>4.077265e+06</td>\n",
       "      <td>4.077265e+06</td>\n",
       "      <td>4.077265e+06</td>\n",
       "      <td>4.077265e+06</td>\n",
       "      <td>4.077265e+06</td>\n",
       "      <td>4.077265e+06</td>\n",
       "      <td>4.077265e+06</td>\n",
       "      <td>4.077265e+06</td>\n",
       "    </tr>\n",
       "    <tr>\n",
       "      <th>mean</th>\n",
       "      <td>3.580238e-01</td>\n",
       "      <td>4.671063e-01</td>\n",
       "      <td>3.508413e-01</td>\n",
       "      <td>3.598694e-01</td>\n",
       "      <td>4.700377e-01</td>\n",
       "      <td>3.433883e-01</td>\n",
       "      <td>3.637087e-01</td>\n",
       "      <td>4.703622e-01</td>\n",
       "      <td>2.782625e-01</td>\n",
       "      <td>3.665047e-01</td>\n",
       "      <td>...</td>\n",
       "      <td>5.643966e-02</td>\n",
       "      <td>8.208480e-07</td>\n",
       "      <td>4.581425e-05</td>\n",
       "      <td>4.522811e-01</td>\n",
       "      <td>3.587175e-01</td>\n",
       "      <td>1.577588e-01</td>\n",
       "      <td>4.086633e-01</td>\n",
       "      <td>7.277953e-02</td>\n",
       "      <td>1.597313e-06</td>\n",
       "      <td>2.253427e-06</td>\n",
       "    </tr>\n",
       "    <tr>\n",
       "      <th>std</th>\n",
       "      <td>2.957265e-01</td>\n",
       "      <td>4.621330e-01</td>\n",
       "      <td>4.630089e-01</td>\n",
       "      <td>2.969780e-01</td>\n",
       "      <td>4.643876e-01</td>\n",
       "      <td>4.560021e-01</td>\n",
       "      <td>2.998802e-01</td>\n",
       "      <td>4.641721e-01</td>\n",
       "      <td>3.923702e-01</td>\n",
       "      <td>3.017395e-01</td>\n",
       "      <td>...</td>\n",
       "      <td>7.771327e-02</td>\n",
       "      <td>6.856606e-04</td>\n",
       "      <td>1.123364e-03</td>\n",
       "      <td>3.869117e-01</td>\n",
       "      <td>4.293905e-01</td>\n",
       "      <td>2.030867e-01</td>\n",
       "      <td>4.402577e-01</td>\n",
       "      <td>9.345526e-02</td>\n",
       "      <td>1.099273e-03</td>\n",
       "      <td>1.129677e-03</td>\n",
       "    </tr>\n",
       "    <tr>\n",
       "      <th>min</th>\n",
       "      <td>0.000000e+00</td>\n",
       "      <td>0.000000e+00</td>\n",
       "      <td>0.000000e+00</td>\n",
       "      <td>0.000000e+00</td>\n",
       "      <td>0.000000e+00</td>\n",
       "      <td>0.000000e+00</td>\n",
       "      <td>0.000000e+00</td>\n",
       "      <td>0.000000e+00</td>\n",
       "      <td>0.000000e+00</td>\n",
       "      <td>0.000000e+00</td>\n",
       "      <td>...</td>\n",
       "      <td>0.000000e+00</td>\n",
       "      <td>0.000000e+00</td>\n",
       "      <td>0.000000e+00</td>\n",
       "      <td>0.000000e+00</td>\n",
       "      <td>0.000000e+00</td>\n",
       "      <td>0.000000e+00</td>\n",
       "      <td>0.000000e+00</td>\n",
       "      <td>0.000000e+00</td>\n",
       "      <td>0.000000e+00</td>\n",
       "      <td>0.000000e+00</td>\n",
       "    </tr>\n",
       "    <tr>\n",
       "      <th>25%</th>\n",
       "      <td>5.492007e-02</td>\n",
       "      <td>2.417709e-16</td>\n",
       "      <td>8.583670e-03</td>\n",
       "      <td>5.516712e-02</td>\n",
       "      <td>3.243613e-16</td>\n",
       "      <td>7.681936e-03</td>\n",
       "      <td>5.571285e-02</td>\n",
       "      <td>8.520296e-16</td>\n",
       "      <td>7.668835e-03</td>\n",
       "      <td>5.607574e-02</td>\n",
       "      <td>...</td>\n",
       "      <td>7.958050e-18</td>\n",
       "      <td>1.599765e-11</td>\n",
       "      <td>4.424648e-05</td>\n",
       "      <td>4.893123e-04</td>\n",
       "      <td>5.467626e-02</td>\n",
       "      <td>3.218412e-09</td>\n",
       "      <td>5.467626e-02</td>\n",
       "      <td>1.035818e-17</td>\n",
       "      <td>4.792328e-14</td>\n",
       "      <td>6.285793e-07</td>\n",
       "    </tr>\n",
       "    <tr>\n",
       "      <th>50%</th>\n",
       "      <td>4.703829e-01</td>\n",
       "      <td>1.532744e-01</td>\n",
       "      <td>1.492918e-02</td>\n",
       "      <td>4.750757e-01</td>\n",
       "      <td>1.416185e-01</td>\n",
       "      <td>1.506229e-02</td>\n",
       "      <td>4.827601e-01</td>\n",
       "      <td>1.251880e-01</td>\n",
       "      <td>1.569101e-02</td>\n",
       "      <td>4.872446e-01</td>\n",
       "      <td>...</td>\n",
       "      <td>1.629809e-14</td>\n",
       "      <td>1.599765e-11</td>\n",
       "      <td>4.424648e-05</td>\n",
       "      <td>4.705715e-01</td>\n",
       "      <td>7.331443e-02</td>\n",
       "      <td>1.994377e-07</td>\n",
       "      <td>1.004644e-01</td>\n",
       "      <td>6.629234e-14</td>\n",
       "      <td>4.792328e-14</td>\n",
       "      <td>6.285793e-07</td>\n",
       "    </tr>\n",
       "    <tr>\n",
       "      <th>75%</th>\n",
       "      <td>4.916134e-01</td>\n",
       "      <td>9.532721e-01</td>\n",
       "      <td>9.878299e-01</td>\n",
       "      <td>4.932150e-01</td>\n",
       "      <td>9.614484e-01</td>\n",
       "      <td>9.880919e-01</td>\n",
       "      <td>4.973904e-01</td>\n",
       "      <td>9.645034e-01</td>\n",
       "      <td>7.077904e-01</td>\n",
       "      <td>5.011610e-01</td>\n",
       "      <td>...</td>\n",
       "      <td>1.002747e-01</td>\n",
       "      <td>1.599765e-11</td>\n",
       "      <td>4.424648e-05</td>\n",
       "      <td>8.454109e-01</td>\n",
       "      <td>9.649540e-01</td>\n",
       "      <td>3.570667e-01</td>\n",
       "      <td>9.666380e-01</td>\n",
       "      <td>1.293227e-01</td>\n",
       "      <td>4.792328e-14</td>\n",
       "      <td>6.285793e-07</td>\n",
       "    </tr>\n",
       "    <tr>\n",
       "      <th>max</th>\n",
       "      <td>1.000000e+00</td>\n",
       "      <td>9.999999e-01</td>\n",
       "      <td>1.000000e+00</td>\n",
       "      <td>1.000000e+00</td>\n",
       "      <td>1.000000e+00</td>\n",
       "      <td>1.000000e+00</td>\n",
       "      <td>1.000000e+00</td>\n",
       "      <td>1.000000e+00</td>\n",
       "      <td>1.000000e+00</td>\n",
       "      <td>9.999999e-01</td>\n",
       "      <td>...</td>\n",
       "      <td>1.000000e+00</td>\n",
       "      <td>1.000000e+00</td>\n",
       "      <td>9.999999e-01</td>\n",
       "      <td>1.000000e+00</td>\n",
       "      <td>1.000000e+00</td>\n",
       "      <td>1.000000e+00</td>\n",
       "      <td>1.000000e+00</td>\n",
       "      <td>1.000000e+00</td>\n",
       "      <td>1.000000e+00</td>\n",
       "      <td>1.000000e+00</td>\n",
       "    </tr>\n",
       "  </tbody>\n",
       "</table>\n",
       "<p>8 rows × 114 columns</p>\n",
       "</div>"
      ],
      "text/plain": [
       "                0             1             2             3             4    \\\n",
       "count  4.077265e+06  4.077265e+06  4.077265e+06  4.077265e+06  4.077265e+06   \n",
       "mean   3.580238e-01  4.671063e-01  3.508413e-01  3.598694e-01  4.700377e-01   \n",
       "std    2.957265e-01  4.621330e-01  4.630089e-01  2.969780e-01  4.643876e-01   \n",
       "min    0.000000e+00  0.000000e+00  0.000000e+00  0.000000e+00  0.000000e+00   \n",
       "25%    5.492007e-02  2.417709e-16  8.583670e-03  5.516712e-02  3.243613e-16   \n",
       "50%    4.703829e-01  1.532744e-01  1.492918e-02  4.750757e-01  1.416185e-01   \n",
       "75%    4.916134e-01  9.532721e-01  9.878299e-01  4.932150e-01  9.614484e-01   \n",
       "max    1.000000e+00  9.999999e-01  1.000000e+00  1.000000e+00  1.000000e+00   \n",
       "\n",
       "                5             6             7             8             9    \\\n",
       "count  4.077265e+06  4.077265e+06  4.077265e+06  4.077265e+06  4.077265e+06   \n",
       "mean   3.433883e-01  3.637087e-01  4.703622e-01  2.782625e-01  3.665047e-01   \n",
       "std    4.560021e-01  2.998802e-01  4.641721e-01  3.923702e-01  3.017395e-01   \n",
       "min    0.000000e+00  0.000000e+00  0.000000e+00  0.000000e+00  0.000000e+00   \n",
       "25%    7.681936e-03  5.571285e-02  8.520296e-16  7.668835e-03  5.607574e-02   \n",
       "50%    1.506229e-02  4.827601e-01  1.251880e-01  1.569101e-02  4.872446e-01   \n",
       "75%    9.880919e-01  4.973904e-01  9.645034e-01  7.077904e-01  5.011610e-01   \n",
       "max    1.000000e+00  1.000000e+00  1.000000e+00  1.000000e+00  9.999999e-01   \n",
       "\n",
       "       ...           104           105           106           107  \\\n",
       "count  ...  4.077265e+06  4.077265e+06  4.077265e+06  4.077265e+06   \n",
       "mean   ...  5.643966e-02  8.208480e-07  4.581425e-05  4.522811e-01   \n",
       "std    ...  7.771327e-02  6.856606e-04  1.123364e-03  3.869117e-01   \n",
       "min    ...  0.000000e+00  0.000000e+00  0.000000e+00  0.000000e+00   \n",
       "25%    ...  7.958050e-18  1.599765e-11  4.424648e-05  4.893123e-04   \n",
       "50%    ...  1.629809e-14  1.599765e-11  4.424648e-05  4.705715e-01   \n",
       "75%    ...  1.002747e-01  1.599765e-11  4.424648e-05  8.454109e-01   \n",
       "max    ...  1.000000e+00  1.000000e+00  9.999999e-01  1.000000e+00   \n",
       "\n",
       "                108           109           110           111           112  \\\n",
       "count  4.077265e+06  4.077265e+06  4.077265e+06  4.077265e+06  4.077265e+06   \n",
       "mean   3.587175e-01  1.577588e-01  4.086633e-01  7.277953e-02  1.597313e-06   \n",
       "std    4.293905e-01  2.030867e-01  4.402577e-01  9.345526e-02  1.099273e-03   \n",
       "min    0.000000e+00  0.000000e+00  0.000000e+00  0.000000e+00  0.000000e+00   \n",
       "25%    5.467626e-02  3.218412e-09  5.467626e-02  1.035818e-17  4.792328e-14   \n",
       "50%    7.331443e-02  1.994377e-07  1.004644e-01  6.629234e-14  4.792328e-14   \n",
       "75%    9.649540e-01  3.570667e-01  9.666380e-01  1.293227e-01  4.792328e-14   \n",
       "max    1.000000e+00  1.000000e+00  1.000000e+00  1.000000e+00  1.000000e+00   \n",
       "\n",
       "                113  \n",
       "count  4.077265e+06  \n",
       "mean   2.253427e-06  \n",
       "std    1.129677e-03  \n",
       "min    0.000000e+00  \n",
       "25%    6.285793e-07  \n",
       "50%    6.285793e-07  \n",
       "75%    6.285793e-07  \n",
       "max    1.000000e+00  \n",
       "\n",
       "[8 rows x 114 columns]"
      ]
     },
     "execution_count": 5,
     "metadata": {},
     "output_type": "execute_result"
    }
   ],
   "source": [
    "scaler = pp.MinMaxScaler()\n",
    "data = scaler.fit_transform(data)\n",
    "data = pd.DataFrame(data)\n",
    "data.describe()"
   ]
  },
  {
   "cell_type": "markdown",
   "id": "5654d1d8-7ca5-4f31-93d2-005acabef525",
   "metadata": {},
   "source": [
    "## Train-Test Split"
   ]
  },
  {
   "cell_type": "code",
   "execution_count": 6,
   "id": "45a90aa3-29f2-4579-962b-5c93d81b89cd",
   "metadata": {},
   "outputs": [],
   "source": [
    "# drop the last row\n",
    "labels=labels[:-1]\n",
    "labels.tail(5)\n",
    "# train-test split\n",
    "X_train, X_test, y_train, y_test = train_test_split(data, labels, shuffle=False, test_size=0.3)"
   ]
  },
  {
   "cell_type": "code",
   "execution_count": 7,
   "id": "9f687ec7-3c07-462f-964a-4a108aab07f8",
   "metadata": {},
   "outputs": [
    {
     "name": "stdout",
     "output_type": "stream",
     "text": [
      "Number anomalies in train data: x    229441\n",
      "dtype: int64\n",
      "Number anomalies in test data: x    1210162\n",
      "dtype: int64\n"
     ]
    }
   ],
   "source": [
    "# anomaly counts\n",
    "print(f'Number anomalies in train data: {y_train.sum()}')\n",
    "print(f'Number anomalies in test data: {y_test.sum()}')"
   ]
  },
  {
   "cell_type": "markdown",
   "id": "72047bb0-db41-4862-b02a-0efed1b46ba1",
   "metadata": {},
   "source": [
    "## Create Model"
   ]
  },
  {
   "cell_type": "code",
   "execution_count": null,
   "id": "e7ab98af-9839-4b85-9278-bde6e8a8f02d",
   "metadata": {},
   "outputs": [],
   "source": [
    "model = LocalOutlierFactor(n_neighbors=23)\n",
    "model.fit(X_train)"
   ]
  },
  {
   "cell_type": "markdown",
   "id": "d6d6271e-530e-476a-8f23-2d475fc01f59",
   "metadata": {},
   "source": [
    "## Evaluate"
   ]
  },
  {
   "cell_type": "code",
   "execution_count": 11,
   "id": "e80a5165-df10-49d7-875d-880a707fc635",
   "metadata": {},
   "outputs": [],
   "source": [
    "predictions = model.predict(X_test)"
   ]
  },
  {
   "cell_type": "code",
   "execution_count": 29,
   "id": "4d04ffb9-ccc6-45d1-80de-9d1c97c30edf",
   "metadata": {},
   "outputs": [],
   "source": [
    "# convert to 0-1\n",
    "predictions = [0 if x>0 else 1 for x in predictions] "
   ]
  },
  {
   "cell_type": "code",
   "execution_count": 31,
   "id": "bc3c4c8c-fb5a-4c6c-80e6-64ff8c38fded",
   "metadata": {},
   "outputs": [
    {
     "name": "stdout",
     "output_type": "stream",
     "text": [
      "Average precision score for test: 0.9894\n"
     ]
    }
   ],
   "source": [
    "# average precision score train\n",
    "aps_test = average_precision_score(y_test, predictions)\n",
    "print(f'Average precision score for test: {aps_test:.4f}')"
   ]
  },
  {
   "cell_type": "code",
   "execution_count": 17,
   "id": "bd4d160c-8737-42ac-8dcb-1ebed8e6ee9b",
   "metadata": {},
   "outputs": [
    {
     "data": {
      "image/png": "[encoded data removed]",
      "text/plain": [
       "<Figure size 640x480 with 1 Axes>"
      ]
     },
     "metadata": {},
     "output_type": "display_data"
    }
   ],
   "source": [
    "# precision-recall curve for test results\n",
    "precision, recall, thresholds = precision_recall_curve(y_test, predictions)\n",
    "plt.title(f'Precision-Recall Curve. Average precision: {aps_test:.2f}')\n",
    "plt.xlabel('Recall')\n",
    "plt.xlim([0, 1.1])\n",
    "plt.ylim([0, 1.1])\n",
    "plt.ylabel('Precision')\n",
    "#plt.ylim([0, 1.1])\n",
    "#plt.xlim([0, 1.0])\n",
    "plt.plot(recall, precision)\n",
    "plt.show()"
   ]
  },
  {
   "cell_type": "code",
   "execution_count": 32,
   "id": "a2e2a65d-1930-456d-930d-c3af8892a753",
   "metadata": {},
   "outputs": [
    {
     "data": {
      "image/png": "[encoded data removed]",
      "text/plain": [
       "<Figure size 640x480 with 1 Axes>"
      ]
     },
     "metadata": {},
     "output_type": "display_data"
    }
   ],
   "source": [
    "# receiver operational characteristic\n",
    "fpr, tpr, thresholds = roc_curve(y_test, predictions)\n",
    "auROC = auc(fpr, tpr)\n",
    "plt.figure()\n",
    "plt.title(f'ROCurve. AuROC={auROC:.2f}')\n",
    "plt.plot(fpr, tpr, color='r', lw=2)\n",
    "plt.xlabel('False Positive Rate')\n",
    "plt.ylabel('True Positive Rate')\n",
    "plt.plot([0,1], [0,1], color='k', lw=2, linestyle='--')\n",
    "plt.show()"
   ]
  }
 ],
 "metadata": {
  "kernelspec": {
   "display_name": "Python 3 (ipykernel)",
   "language": "python",
   "name": "python3"
  },
  "language_info": {
   "codemirror_mode": {
    "name": "ipython",
    "version": 3
   },
   "file_extension": ".py",
   "mimetype": "text/x-python",
   "name": "python",
   "nbconvert_exporter": "python",
   "pygments_lexer": "ipython3",
   "version": "3.10.12"
  }
 },
 "nbformat": 4,
 "nbformat_minor": 5
}
